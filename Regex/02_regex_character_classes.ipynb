{
 "cells": [
  {
   "cell_type": "markdown",
   "id": "7371174c",
   "metadata": {},
   "source": [
    "**Table of contents**<a id='toc0_'></a>    \n",
    "- [Character Classes](#toc1_)    \n",
    "  - [Predefined Character classes](#toc1_1_)    \n",
    "  - [Custom Character Classes](#toc1_2_)    \n",
    "\n",
    "<!-- vscode-jupyter-toc-config\n",
    "\tnumbering=false\n",
    "\tanchor=true\n",
    "\tflat=false\n",
    "\tminLevel=1\n",
    "\tmaxLevel=6\n",
    "\t/vscode-jupyter-toc-config -->\n",
    "<!-- THIS CELL WILL BE REPLACED ON TOC UPDATE. DO NOT WRITE YOUR TEXT IN THIS CELL -->"
   ]
  },
  {
   "cell_type": "markdown",
   "id": "3c93710f",
   "metadata": {},
   "source": []
  },
  {
   "cell_type": "markdown",
   "id": "9436484b",
   "metadata": {},
   "source": [
    "# <a id='toc1_'></a>[Character Classes](#toc0_)"
   ]
  },
  {
   "cell_type": "markdown",
   "metadata": {},
   "source": [
    "## <a id='toc1_1_'></a>[Predefined Character classes](#toc0_)"
   ]
  },
  {
   "cell_type": "markdown",
   "id": "a9f9de85",
   "metadata": {},
   "source": [
    "Character classes allow you to match any character from a specific set.\n",
    "\n",
    "Predefined Character classes:\n",
    "\n",
    "Python provides several predefined character classes:\n",
    "\n",
    "- \\d - Matches any digit (0-9)\n",
    "\n",
    "-  \\D - Matches any non-digit\n",
    "\n",
    "- \\w - Matches any alphanumeric character and underscore [a-zA-Z0-9_]\n",
    "\n",
    "- \\W - Matches any non-alphanumeric character\n",
    "\n",
    "- \\s - Matches any whitespace character (space, tab, newline)\n",
    "\n",
    "- \\S - Matches any non-whitespace character\n"
   ]
  },
  {
   "cell_type": "code",
   "execution_count": 6,
   "id": "945571fa",
   "metadata": {},
   "outputs": [],
   "source": [
    "import re"
   ]
  },
  {
   "cell_type": "code",
   "execution_count": null,
   "id": "1e1abfbb",
   "metadata": {},
   "outputs": [
    {
     "name": "stdout",
     "output_type": "stream",
     "text": [
      "Sample text: 'The quick brown fox jumps over the lazy dog. It was born in 2019!'\n",
      "--------------------------------------------------------------------------------\n",
      "\\d (digits): ['2', '0', '1', '9']\n",
      "\\D (non-digits): ['T', 'h', 'e', ' ', 'q', 'u', 'i', 'c', 'k', ' ']... (showing first 10 of 61)\n",
      "\\w (word characters): ['T', 'h', 'e', 'q', 'u', 'i', 'c', 'k', 'b', 'r', 'o', 'w', 'n', 'f', 'o']... (showing first 15 of 50)\n",
      "\\W (non-word characters): [' ', ' ', ' ', ' ', ' ', ' ', ' ', ' ', '.', ' ', ' ', ' ', ' ', ' ', '!']\n",
      "\\s (whitespace): [' ', ' ', ' ', ' ', ' ', ' ', ' ', ' ', ' ', ' ', ' ', ' ', ' '] (represented as spaces)\n",
      "\\S (non-whitespace): ['T', 'h', 'e', 'q', 'u', 'i', 'c', 'k', 'b', 'r', 'o', 'w', 'n', 'f', 'o']... (showing first 15 of 52)\n",
      "\n",
      "All words using \\w: ['The', 'quick', 'brown', 'fox', 'jumps', 'over', 'the', 'lazy', 'dog', 'It', 'was', 'born', 'in', '2019']\n",
      "\n",
      "All numbers using \\d+: ['12345', '2', '19', '99', '04', '23', '2023']\n"
     ]
    }
   ],
   "source": [
    "text = \"The quick brown fox jumps over the lazy dog. It was born in 2019!\"\n",
    "print(f\"Sample text: '{text}'\")\n",
    "print(\"-\" * 80)\n",
    "\n",
    "# Example of \\d - matches any digit\n",
    "digits = re.findall(r\"\\d\", text)\n",
    "print(f\"\\d (digits): {digits}\")\n",
    "\n",
    "# Example of \\D - matches any non-digit\n",
    "non_digits = re.findall(r\"\\D\", text)\n",
    "print(f\"\\D (non-digits): {non_digits[:10]}... (showing first 10 of {len(non_digits)})\")\n",
    "\n",
    "# Example of \\w - matches any word character (alphanumeric + underscore)\n",
    "word_chars = re.findall(r\"\\w\", text)\n",
    "print(f\"\\w (word characters): {word_chars[:15]}... (showing first 15 of {len(word_chars)})\")\n",
    "\n",
    "# Example of \\W - matches any non-word character\n",
    "non_word_chars = re.findall(r\"\\W\", text)\n",
    "print(f\"\\W (non-word characters): {non_word_chars}\")\n",
    "\n",
    "# Example of \\s - matches any whitespace character\n",
    "whitespace_chars = re.findall(r\"\\s\", text)\n",
    "print(f\"\\s (whitespace): {whitespace_chars} (represented as spaces)\")\n",
    "\n",
    "# Example of \\S - matches any non-whitespace character\n",
    "non_whitespace = re.findall(r\"\\S\", text)\n",
    "print(f\"\\S (non-whitespace): {non_whitespace[:15]}... (showing first 15 of {len(non_whitespace)})\")\n",
    "\n",
    "# Practical example: Finding all words in a text\n",
    "words = re.findall(r\"\\b\\w+\\b\", text)\n",
    "print(f\"\\nAll words using \\w: {words}\")\n",
    "\n",
    "# Practical example: Extracting all numbers from a text\n",
    "numbers_text = \"Order #12345 includes 2 items at $19.99 each for delivery on 04/23/2023\"\n",
    "numbers = re.findall(r\"\\d+\", numbers_text)  \n",
    "print(f\"\\nAll numbers using \\d+: {numbers}\")"
   ]
  },
  {
   "cell_type": "markdown",
   "metadata": {},
   "source": [
    "## <a id='toc1_2_'></a>[Custom Character Classes](#toc0_)"
   ]
  },
  {
   "cell_type": "markdown",
   "id": "6028d443",
   "metadata": {},
   "source": [
    "You can define your own character classes using square brackets []:\n",
    "\n",
    "- [abc] - Matches any of the characters a, b, or c\n",
    "\n",
    "- [a-z] - Matches any lowercase letter from a to z\n",
    "\n",
    "- [^abc] - Matches any character except a, b, or c"
   ]
  },
  {
   "cell_type": "code",
   "execution_count": 10,
   "id": "4f10148f",
   "metadata": {},
   "outputs": [
    {
     "name": "stdout",
     "output_type": "stream",
     "text": [
      "Sample text: 'The quick brown fox jumps over the lazy dog. It was born in 2019!'\n",
      "--------------------------------------------------------------------------------\n",
      "Vowels [aeiou]: ['e', 'u', 'i', 'o', 'o', 'u', 'o', 'e', 'e', 'a', 'o', 'i', 'a', 'o', 'i']... (showing first 15 of 15)\n",
      "Lowercase [a-z]: ['h', 'e', 'q', 'u', 'i', 'c', 'k', 'b', 'r', 'o', 'w', 'n', 'f', 'o', 'x']... (showing first 15 of 44)\n",
      "All letters [a-zA-Z]: ['T', 'h', 'e', 'q', 'u', 'i', 'c', 'k', 'b', 'r', 'o', 'w', 'n', 'f', 'o']... (showing first 15 of 46)\n",
      "Alphanumeric [a-zA-Z0-9]: ['T', 'h', 'e', 'q', 'u', 'i', 'c', 'k', 'b', 'r', 'o', 'w', 'n', 'f', 'o']... (showing first 15 of 50)\n",
      "Vowels and digits [aeiouAEIOU0-9]: ['e', 'u', 'i', 'o', 'o', 'u', 'o', 'e', 'e', 'a', 'o', 'I', 'a', 'o', 'i', '2', '0', '1', '9']\n",
      "\n",
      "Words containing 'z': ['lazy']\n",
      "Words starting with 't' or 'T': ['The', 'the']\n"
     ]
    }
   ],
   "source": [
    "text = \"The quick brown fox jumps over the lazy dog. It was born in 2019!\"\n",
    "print(f\"Sample text: '{text}'\")\n",
    "print(\"-\" * 80)\n",
    "\n",
    "\n",
    "# Basic custom character class - matches any vowel\n",
    "vowels = re.findall(r\"[aeiou]\", text.lower())\n",
    "print(f\"Vowels [aeiou]: {vowels[:15]}... (showing first 15 of {len(vowels)})\")\n",
    "\n",
    "# Character ranges - matches any lowercase letter\n",
    "lowercase_letters = re.findall(r\"[a-z]\", text)\n",
    "print(f\"Lowercase [a-z]: {lowercase_letters[:15]}... (showing first 15 of {len(lowercase_letters)})\")\n",
    "\n",
    "# Multiple ranges - matches any letter (uppercase or lowercase)\n",
    "all_letters = re.findall(r\"[a-zA-Z]\", text)\n",
    "print(f\"All letters [a-zA-Z]: {all_letters[:15]}... (showing first 15 of {len(all_letters)})\")\n",
    "\n",
    "# Combining different types - matches letters and digits\n",
    "alphanumeric = re.findall(r\"[a-zA-Z0-9]\", text)\n",
    "print(f\"Alphanumeric [a-zA-Z0-9]: {alphanumeric[:15]}... (showing first 15 of {len(alphanumeric)})\")\n",
    "\n",
    "# Combining individual characters and ranges\n",
    "mixed_class = re.findall(r\"[aeiouAEIOU0-9]\", text)\n",
    "print(f\"Vowels and digits [aeiouAEIOU0-9]: {mixed_class}\")\n",
    "\n",
    "# Practical example: Finding words containing specific letters\n",
    "words_with_z = re.findall(r\"\\b\\w*[z]\\w*\\b\", text.lower())\n",
    "print(f\"\\nWords containing 'z': {words_with_z}\")\n",
    "\n",
    "# Practical example: Finding words starting with specific letters\n",
    "words_starting_with_t = re.findall(r\"\\b[tT]\\w+\\b\", text)\n",
    "print(f\"Words starting with 't' or 'T': {words_starting_with_t}\")\n"
   ]
  },
  {
   "cell_type": "markdown",
   "id": "f1499cfb",
   "metadata": {},
   "source": [
    "## Negated Character Classes"
   ]
  },
  {
   "cell_type": "code",
   "execution_count": 11,
   "id": "434e21b4",
   "metadata": {},
   "outputs": [
    {
     "name": "stdout",
     "output_type": "stream",
     "text": [
      "Sample text: 'The quick brown fox jumps over the lazy dog. It was born in 2019!'\n",
      "--------------------------------------------------------------------------------\n",
      "Consonants [^aeiou\\s\\W\\d]: ['t', 'h', 'q', 'c', 'k', 'b', 'r', 'w', 'n', 'f', 'x', 'j', 'm', 'p', 's', 'v', 'r', 't', 'h', 'l', 'z', 'y', 'd', 'g', 't', 'w', 's', 'b', 'r', 'n', 'n']\n",
      "Non-letters [^a-zA-Z]: [' ', ' ', ' ', ' ', ' ', ' ', ' ', ' ', '.', ' ', ' ', ' ', ' ', ' ', '2', '0', '1', '9', '!']\n",
      "Non-alphanumeric [^a-zA-Z0-9]: [' ', ' ', ' ', ' ', ' ', ' ', ' ', ' ', '.', ' ', ' ', ' ', ' ', ' ', '!']\n",
      "Characters 'a', '^', or 'e' [a^e]: ['a', '^', 'e']\n",
      "\n",
      "Words without 'e': [' ', ' ', ' ', ' ']\n",
      "Original: 'Hello, World! How's it going? 123'\n",
      "Cleaned: 'Hello World Hows it going 123'\n"
     ]
    }
   ],
   "source": [
    "text = \"The quick brown fox jumps over the lazy dog. It was born in 2019!\"\n",
    "print(f\"Sample text: '{text}'\")\n",
    "print(\"-\" * 80)\n",
    "\n",
    "\n",
    "# Negated character class - matches any non-vowel\n",
    "consonants = re.findall(r\"[^aeiou\\s\\W\\d]\", text.lower())\n",
    "print(f\"Consonants [^aeiou\\\\s\\\\W\\\\d]: {consonants}\")\n",
    "\n",
    "# Negated ranges - matches any character that is not a letter\n",
    "non_letters = re.findall(r\"[^a-zA-Z]\", text)\n",
    "print(f\"Non-letters [^a-zA-Z]: {non_letters}\")\n",
    "\n",
    "# Combining negations - matches any character that is not a letter or digit\n",
    "non_alphanumeric = re.findall(r\"[^a-zA-Z0-9]\", text)\n",
    "print(f\"Non-alphanumeric [^a-zA-Z0-9]: {non_alphanumeric}\")\n",
    "\n",
    "# Important: ^ only means negation when it's the first character in a class\n",
    "includes_caret = re.findall(r\"[a^e]\", \"a^e\")\n",
    "print(f\"Characters 'a', '^', or 'e' [a^e]: {includes_caret}\")\n",
    "\n",
    "# Practical example: Finding words without specific letters\n",
    "words_without_e = re.findall(r\"\\b[^e]*\\b\", \"The green tree seems fresh.\")\n",
    "print(f\"\\nWords without 'e': {[w for w in words_without_e if w]}\")\n",
    "\n",
    "# Practical example: Removing non-alphanumeric characters\n",
    "text_with_symbols = \"Hello, World! How's it going? 123\"\n",
    "clean_text = re.sub(r\"[^a-zA-Z0-9\\s]\", \"\", text_with_symbols)\n",
    "print(f\"Original: '{text_with_symbols}'\")\n",
    "print(f\"Cleaned: '{clean_text}'\")"
   ]
  },
  {
   "cell_type": "markdown",
   "id": "9a6af980",
   "metadata": {},
   "source": [
    "## COMBINING WITH QUANTIFIERS"
   ]
  },
  {
   "cell_type": "code",
   "execution_count": 12,
   "id": "a4c1c632",
   "metadata": {},
   "outputs": [
    {
     "name": "stdout",
     "output_type": "stream",
     "text": [
      "All number sequences: ['12345', '2', '19', '99', '04', '23', '2023']\n",
      "Words with 4-6 letters: ['quick', 'brown', 'jumps', 'over', 'lazy']\n",
      "Words starting with vowels: ['over']\n",
      "\n",
      "Valid US phone numbers: ['123-456-7890', '(123) 456-7890', '123.456.7890', '123 456 7890', '1234567890']\n"
     ]
    }
   ],
   "source": [
    "# Matching sequences of digits\n",
    "numbers_text = \"Order #12345 includes 2 items at $19.99 each for delivery on 04/23/2023\"\n",
    "multi_digit_numbers = re.findall(r\"\\d+\", numbers_text)\n",
    "print(f\"All number sequences: {multi_digit_numbers}\")\n",
    "\n",
    "# Finding words with specific length ranges using character classes and quantifiers\n",
    "text = \"The quick brown fox jumps over the lazy dog\"\n",
    "medium_words = re.findall(r\"\\b[a-zA-Z]{4,6}\\b\", text)\n",
    "print(f\"Words with 4-6 letters: {medium_words}\")\n",
    "\n",
    "# Find all words starting with a vowel\n",
    "vowel_start_words = re.findall(r\"\\b[aeiou][a-z]*\\b\", text.lower())\n",
    "print(f\"Words starting with vowels: {vowel_start_words}\")\n",
    "\n",
    "# Practical example: Validating US phone numbers\n",
    "phone_numbers = [\"123-456-7890\", \"(123) 456-7890\", \"123.456.7890\", \"123 456 7890\", \n",
    "                \"1234567890\", \"12-34-56\", \"123-4567\"]\n",
    "valid_numbers = []\n",
    "\n",
    "for phone in phone_numbers:\n",
    "    # Match valid US phone number formats\n",
    "    if re.fullmatch(r\"\\(?[0-9]{3}\\)?[-.\\s]?[0-9]{3}[-.\\s]?[0-9]{4}\", phone):\n",
    "        valid_numbers.append(phone)\n",
    "\n",
    "print(f\"\\nValid US phone numbers: {valid_numbers}\")"
   ]
  },
  {
   "cell_type": "code",
   "execution_count": 14,
   "id": "887b0dc4",
   "metadata": {},
   "outputs": [
    {
     "name": "stdout",
     "output_type": "stream",
     "text": [
      "Email validation:\n",
      "  user@example.com: Valid\n",
      "  john.doe@company.co.uk: Valid\n",
      "  invalid@: Invalid\n",
      "  missing-domain@.com: Invalid\n",
      "  special#char@domain.com: Invalid\n",
      "\n",
      "Password strength checking:\n",
      "  'password': Missing uppercase letter\n",
      "  'Password1': Missing special character\n",
      "  'p@ssW0rd': Strong\n",
      "  'StrongP@ss123': Strong\n",
      "\n",
      "Log file parsing:\n",
      "  IP Address: 192.168.1.1\n",
      "  Date/Time: 21/Apr/2023:14:31:25\n"
     ]
    }
   ],
   "source": [
    "# Example 1: Email validation\n",
    "def is_valid_email(email):\n",
    "    # Basic email validation pattern using character classes\n",
    "    pattern = r\"[a-zA-Z0-9._%+-]+@[a-zA-Z0-9.-]+\\.[a-zA-Z]{2,}\"\n",
    "    return bool(re.fullmatch(pattern, email))\n",
    "\n",
    "emails = [\"user@example.com\", \"john.doe@company.co.uk\", \"invalid@\", \n",
    "         \"missing-domain@.com\", \"special#char@domain.com\"]\n",
    "\n",
    "print(\"Email validation:\")\n",
    "for email in emails:\n",
    "    print(f\"  {email}: {'Valid' if is_valid_email(email) else 'Invalid'}\")\n",
    "\n",
    "# Example 2: Password strength checker\n",
    "def check_password_strength(password):\n",
    "    # Check length (at least 8 characters)\n",
    "    if len(password) < 8:\n",
    "        return \"Too short\"\n",
    "    \n",
    "    # Check for at least one lowercase letter\n",
    "    if not re.search(r\"[a-z]\", password):\n",
    "        return \"Missing lowercase letter\"\n",
    "    \n",
    "    # Check for at least one uppercase letter\n",
    "    if not re.search(r\"[A-Z]\", password):\n",
    "        return \"Missing uppercase letter\"\n",
    "    \n",
    "    # Check for at least one digit\n",
    "    if not re.search(r\"[0-9]\", password):\n",
    "        return \"Missing digit\"\n",
    "    \n",
    "    # Check for at least one special character\n",
    "    if not re.search(r\"[!@#$%^&*(),.?\\\":{}|<>]\", password):\n",
    "        return \"Missing special character\"\n",
    "    \n",
    "    return \"Strong\"\n",
    "\n",
    "passwords = [\"password\", \"Password1\", \"p@ssW0rd\", \"StrongP@ss123\"]\n",
    "print(\"\\nPassword strength checking:\")\n",
    "for password in passwords:\n",
    "    strength = check_password_strength(password)\n",
    "    print(f\"  '{password}': {strength}\")\n",
    "\n",
    "# Example 3: Extract data from text\n",
    "log_entry = \"192.168.1.1 - - [21/Apr/2023:14:31:25 +0000] \\\"GET /index.html HTTP/1.1\\\" 200 1234\"\n",
    "\n",
    "# Extract IP address using character classes\n",
    "ip_pattern = r\"([0-9]{1,3}\\.[0-9]{1,3}\\.[0-9]{1,3}\\.[0-9]{1,3})\"\n",
    "ip_match = re.search(ip_pattern, log_entry)\n",
    "ip_address = ip_match.group(1) if ip_match else \"Not found\"\n",
    "\n",
    "# Extract date and time\n",
    "date_pattern = r\"\\[([0-9]{2}/[A-Za-z]{3}/[0-9]{4}:[0-9]{2}:[0-9]{2}:[0-9]{2})\"\n",
    "date_match = re.search(date_pattern, log_entry)\n",
    "date_time = date_match.group(1) if date_match else \"Not found\"\n",
    "\n",
    "print(\"\\nLog file parsing:\")\n",
    "print(f\"  IP Address: {ip_address}\")\n",
    "print(f\"  Date/Time: {date_time}\")"
   ]
  },
  {
   "cell_type": "code",
   "execution_count": null,
   "id": "5a91c2b6",
   "metadata": {},
   "outputs": [],
   "source": []
  }
 ],
 "metadata": {
  "kernelspec": {
   "display_name": "Python 3",
   "language": "python",
   "name": "python3"
  },
  "language_info": {
   "codemirror_mode": {
    "name": "ipython",
    "version": 3
   },
   "file_extension": ".py",
   "mimetype": "text/x-python",
   "name": "python",
   "nbconvert_exporter": "python",
   "pygments_lexer": "ipython3",
   "version": "3.9.12"
  }
 },
 "nbformat": 4,
 "nbformat_minor": 5
}
