{
 "cells": [
  {
   "cell_type": "markdown",
   "id": "592867f1",
   "metadata": {},
   "source": [
    "# Quantifiers"
   ]
  },
  {
   "cell_type": "markdown",
   "id": "11857fad",
   "metadata": {},
   "source": [
    "Quantifiers in regular expressions specify how many times a character, group, \n",
    "or character class should be matched.\n",
    "\n",
    "They are essential for matching patterns of varying lengths and making regex\n",
    "patterns more flexible and powerful."
   ]
  },
  {
   "cell_type": "markdown",
   "id": "8fc48c72",
   "metadata": {},
   "source": [
    "# Basic Quantifiers"
   ]
  },
  {
   "cell_type": "code",
   "execution_count": 3,
   "id": "caef9cad",
   "metadata": {},
   "outputs": [],
   "source": [
    "import re"
   ]
  },
  {
   "cell_type": "code",
   "execution_count": 9,
   "id": "3c1a05f1",
   "metadata": {},
   "outputs": [
    {
     "name": "stdout",
     "output_type": "stream",
     "text": [
      "Sample text: 'The year 2023 had 365 days. File names: doc1.txt, img001.jpg, and report12345.pdf'\n",
      "--------------------------------------------------------------------------------\n",
      "Example of * (zero or more occurrences):\n",
      "  Pattern 'a*b' matches: ['b', 'ab', 'aaab', 'ab']\n",
      "  Pattern '\\d*' matches (non-empty): ['2023', '365', '1', '001', '12345']\n",
      "\n",
      "Example of + (one or more occurrences):\n",
      "  Pattern 'a+b' matches: ['ab', 'aaab']\n",
      "  Pattern '\\d+' matches: ['2023', '365', '1', '001', '12345']\n",
      "\n",
      "Example of ? (zero or one occurrence):\n",
      "  Pattern 'colou?r' matches: ['color', 'colour']\n",
      "  Pattern '\\(?\\d{3}\\)?-?\\d{3}-\\d{4}' matches: ['123-456-7890']\n"
     ]
    }
   ],
   "source": [
    "# Sample text for our examples\n",
    "text = \"The year 2023 had 365 days. File names: doc1.txt, img001.jpg, and report12345.pdf\"\n",
    "print(f\"Sample text: '{text}'\")\n",
    "print(\"-\" * 80)\n",
    "\n",
    "# --------------------------------------------- #\n",
    "\n",
    "# Example of * (zero or more occurrences)\n",
    "print(\"Example of * (zero or more occurrences):\")\n",
    "star_results = re.findall(r\"a*b\", \"b ab aaab hello abcd\")\n",
    "print(f\"  Pattern 'a*b' matches: {star_results}\")\n",
    "# This matches: b (0 'a's), ab (1 'a'), aaab (3 'a's)\n",
    "\n",
    "# All digit sequences (including empty ones)\n",
    "star_digit_results = re.findall(r\"\\d*\", text)\n",
    "# Filter out empty strings for clarity\n",
    "non_empty_star_results = [match for match in star_digit_results if match]\n",
    "print(f\"  Pattern '\\\\d*' matches (non-empty): {non_empty_star_results}\")\n",
    "\n",
    "# --------------------------------------------- #\n",
    "\n",
    "# Example of + (one or more occurrences)\n",
    "print(\"\\nExample of + (one or more occurrences):\")\n",
    "\n",
    "plus_results = re.findall(r\"a+b\", \"b ab aaab\")\n",
    "print(f\"  Pattern 'a+b' matches: {plus_results}\")\n",
    "# This matches: ab (1 'a'), aaab (3 'a's), but not b (0 'a's)\n",
    "\n",
    "# All digit sequences (at least one digit)\n",
    "plus_digit_results = re.findall(r\"\\d+\", text)\n",
    "print(f\"  Pattern '\\\\d+' matches: {plus_digit_results}\")\n",
    "# This matches: 2023, 365, 1, 001, 12345\n",
    "\n",
    "# --------------------------------------------- #\n",
    "\n",
    "# Example of ? (zero or one occurrence)\n",
    "print(\"\\nExample of ? (zero or one occurrence):\")\n",
    "\n",
    "question_results = re.findall(r\"colou?r\", \"I prefer color, but others write it as colour\")\n",
    "print(f\"  Pattern 'colou?r' matches: {question_results}\")\n",
    "# This matches both 'color' and 'colour'\n",
    "\n",
    "# Optional area code in phone numbers\n",
    "phone_text = \"Call 123-456-7890 or (987) 654-3210\"\n",
    "optional_area_code = re.findall(r\"\\(?\\d{3}\\)?-?\\d{3}-\\d{4}\", phone_text)\n",
    "print(f\"  Pattern '\\\\(?\\\\d{{3}}\\\\)?-?\\\\d{{3}}-\\\\d{{4}}' matches: {optional_area_code}\")\n",
    "# This matches both formats with or without parentheses"
   ]
  },
  {
   "cell_type": "markdown",
   "id": "5e87b0cc",
   "metadata": {},
   "source": [
    "## Specific Quantifiers"
   ]
  },
  {
   "cell_type": "markdown",
   "id": "fe434ef2",
   "metadata": {},
   "source": [
    "Python regex also supports specific quantifiers for more precise control:\n",
    "\n",
    "- {n}   - Matches exactly n occurrences\n",
    "\n",
    "- {n,}  - Matches n or more occurrences\n",
    "\n",
    "- {n,m} - Matches between n and m occurrences (inclusive)"
   ]
  },
  {
   "cell_type": "code",
   "execution_count": 11,
   "id": "6b400ef7",
   "metadata": {},
   "outputs": [
    {
     "name": "stdout",
     "output_type": "stream",
     "text": [
      "Sample text: 'The year 2023 had 365 days. File names: doc1.txt, img001.jpg, and report12345.pdf'\n",
      "--------------------------------------------------------------------------------\n",
      "Example of {n} (exactly n occurrences):\n",
      "  Pattern '\\d{3}' matches: ['202', '365', '001', '123']\n",
      "\n",
      "Example of {n,} (n or more occurrences):\n",
      "  Pattern '\\d{4,}' matches: ['2023', '12345']\n",
      "\n",
      "Example of {n,m} (between n and m occurrences):\n",
      "  Pattern '\\d{2,4}' matches: ['2023', '365', '001', '1234']\n",
      "\n",
      "Practical examples with specific quantifiers:\n",
      "  US zip codes: ['12345', '12345-6789']\n",
      "  Three-letter words: ['The', 'fox', 'ran', 'the', 'big', 'red', 'hen']\n",
      "  Words with 3-5 letters: ['The', 'fox', 'ran', 'the', 'big', 'red', 'hen']\n"
     ]
    }
   ],
   "source": [
    "# Sample text for our examples\n",
    "text = \"The year 2023 had 365 days. File names: doc1.txt, img001.jpg, and report12345.pdf\"\n",
    "print(f\"Sample text: '{text}'\")\n",
    "print(\"-\" * 80)\n",
    "\n",
    "# Example of {n} (exactly n occurrences)\n",
    "print(\"Example of {n} (exactly n occurrences):\")\n",
    "exact_results = re.findall(r\"\\d{3}\", text)\n",
    "print(f\"  Pattern '\\\\d{{3}}' matches: {exact_results}\")\n",
    "# This matches: 365, 001 (exactly 3 digits each)\n",
    "\n",
    "# Example of {n,} (n or more occurrences)\n",
    "print(\"\\nExample of {n,} (n or more occurrences):\")\n",
    "min_results = re.findall(r\"\\d{4,}\", text)\n",
    "print(f\"  Pattern '\\\\d{{4,}}' matches: {min_results}\")\n",
    "# This matches: 2023, 12345 (4 or more digits)\n",
    "\n",
    "# Example of {n,m} (between n and m occurrences)\n",
    "print(\"\\nExample of {n,m} (between n and m occurrences):\")\n",
    "range_results = re.findall(r\"\\d{2,4}\", text)\n",
    "print(f\"  Pattern '\\\\d{{2,4}}' matches: {range_results}\")\n",
    "# This matches: 2023, 365, 001, 1234 (between 2 and 4 digits)\n",
    "\n",
    "# Practical examples with specific quantifiers\n",
    "print(\"\\nPractical examples with specific quantifiers:\")\n",
    "\n",
    "# Matching US zip codes (exactly 5 digits or 5+4)\n",
    "zip_codes = \"Zip codes: 12345 and 12345-6789\"\n",
    "zip_matches = re.findall(r\"\\b\\d{5}(?:-\\d{4})?\\b\", zip_codes)\n",
    "print(f\"  US zip codes: {zip_matches}\")\n",
    "\n",
    "# Matching 3-letter words\n",
    "words_text = \"The fox ran to the big red hen\"\n",
    "three_letter_words = re.findall(r\"\\b[a-zA-Z]{3}\\b\", words_text)\n",
    "print(f\"  Three-letter words: {three_letter_words}\")\n",
    "\n",
    "# Matching words with 3-5 letters\n",
    "three_to_five_letter_words = re.findall(r\"\\b[a-zA-Z]{3,5}\\b\", words_text)\n",
    "print(f\"  Words with 3-5 letters: {three_to_five_letter_words}\")"
   ]
  },
  {
   "cell_type": "markdown",
   "id": "6b448fc6",
   "metadata": {},
   "source": [
    "## Greedy vs Non-Greedy Matching"
   ]
  },
  {
   "cell_type": "markdown",
   "id": "142599c3",
   "metadata": {},
   "source": [
    "By default, quantifiers are greedy, meaning they match as much as possible.\n",
    "\n",
    "Adding a ? after a quantifier makes it non-greedy (lazy), meaning it will\n",
    "match as little as possible."
   ]
  },
  {
   "cell_type": "code",
   "execution_count": 13,
   "id": "a73f99c5",
   "metadata": {},
   "outputs": [
    {
     "name": "stdout",
     "output_type": "stream",
     "text": [
      "HTML text: '<div>Content 1</div><div>Content 2</div>'\n",
      "\n",
      "Greedy matching (default):\n",
      "  Pattern '<div>.*</div>' matches: '<div>Content 1</div><div>Content 2</div>'\n",
      "\n",
      "Non-greedy (lazy) matching:\n",
      "  Pattern '<div>.*?</div>' matches: '<div>Content 1</div>'\n",
      "\n",
      "More examples of greedy vs. non-greedy matching:\n",
      "  Greedy 'Start.*End': 'Start 123 Middle 456 End'\n",
      "  Non-greedy 'Start.*?End': 'Start 123 Middle 456 End'\n",
      "  HTML text: '<p>First paragraph</p><p>Second paragraph</p>'\n",
      "  Greedy '<p>.*</p>': ['<p>First paragraph</p><p>Second paragraph</p>']\n",
      "  Non-greedy '<p>.*?</p>': ['<p>First paragraph</p>', '<p>Second paragraph</p>']\n"
     ]
    }
   ],
   "source": [
    "html_text = \"<div>Content 1</div><div>Content 2</div>\"\n",
    "print(f\"HTML text: '{html_text}'\")\n",
    "\n",
    "# Greedy matching (default)\n",
    "print(\"\\nGreedy matching (default):\")\n",
    "greedy_match = re.search(r\"<div>.*</div>\", html_text)\n",
    "print(f\"  Pattern '<div>.*</div>' matches: '{greedy_match.group()}'\")\n",
    "# This matches: \"<div>Content 1</div><div>Content 2</div>\"\n",
    "# The .* matches as much as possible, going to the last </div>\n",
    "\n",
    "# Non-greedy (lazy) matching\n",
    "print(\"\\nNon-greedy (lazy) matching:\")\n",
    "lazy_match = re.search(r\"<div>.*?</div>\", html_text)\n",
    "print(f\"  Pattern '<div>.*?</div>' matches: '{lazy_match.group()}'\")\n",
    "# This matches: \"<div>Content 1</div>\"\n",
    "# The .*? matches as little as possible, stopping at the first </div>\n",
    "\n",
    "# More examples of greedy vs. non-greedy matching\n",
    "print(\"\\nMore examples of greedy vs. non-greedy matching:\")\n",
    "\n",
    "text = \"Start 123 Middle 456 End\"\n",
    "\n",
    "# Greedy matching with \\d* (as many digits as possible)\n",
    "greedy_digits = re.search(r\"Start.*End\", text)\n",
    "print(f\"  Greedy 'Start.*End': '{greedy_digits.group()}'\")\n",
    "# Matches \"Start 123 Middle 456 End\" (the entire text)\n",
    "\n",
    "# Non-greedy matching with \\d*? (as few digits as possible)\n",
    "lazy_digits = re.search(r\"Start.*?End\", text)\n",
    "print(f\"  Non-greedy 'Start.*?End': '{lazy_digits.group()}'\")\n",
    "# Still matches \"Start 123 Middle 456 End\" because there's only one \"End\"\n",
    "\n",
    "# Example where the difference is more apparent\n",
    "html_more = \"<p>First paragraph</p><p>Second paragraph</p>\"\n",
    "greedy_p = re.findall(r\"<p>.*</p>\", html_more)\n",
    "lazy_p = re.findall(r\"<p>.*?</p>\", html_more)\n",
    "print(f\"  HTML text: '{html_more}'\")\n",
    "print(f\"  Greedy '<p>.*</p>': {greedy_p}\")\n",
    "print(f\"  Non-greedy '<p>.*?</p>': {lazy_p}\")\n",
    "# Greedy matches the whole thing once\n",
    "# Non-greedy matches each paragraph separately"
   ]
  },
  {
   "cell_type": "markdown",
   "id": "24e032b1",
   "metadata": {},
   "source": [
    "## COMBINING QUANTIFIERS WITH GROUPS AND CLASSES"
   ]
  },
  {
   "cell_type": "markdown",
   "id": "7261f556",
   "metadata": {},
   "source": [
    "Quantifiers become even more powerful when combined with groups and\n",
    "character classes, allowing for complex pattern matching."
   ]
  },
  {
   "cell_type": "code",
   "execution_count": 14,
   "id": "a9b82315",
   "metadata": {},
   "outputs": [
    {
     "name": "stdout",
     "output_type": "stream",
     "text": [
      "Combining quantifiers with character classes:\n",
      "  Sequences of vowels [aeiou]+: ['e', 'ui', 'o', 'o', 'u', 'o', 'e', 'e', 'a', 'o']\n",
      "  Words with 2+ consecutive consonants: ['the', 'quick', 'brown', 'jumps', 'the', 'lazy']\n",
      "\n",
      "Combining quantifiers with groups:\n",
      "  Repeated words: ['the', 'quick', 'fox', 'over']\n",
      "  Flexible date formats: ['01/02/2023', '1-2-2023', '2023-01-02']\n"
     ]
    }
   ],
   "source": [
    "# Combining quantifiers with character classes\n",
    "print(\"Combining quantifiers with character classes:\")\n",
    "text = \"The quick brown fox jumps over the lazy dog\"\n",
    "vowel_sequences = re.findall(r\"[aeiou]+\", text.lower())\n",
    "print(f\"  Sequences of vowels [aeiou]+: {vowel_sequences}\")\n",
    "\n",
    "# Finding words with specific consonant sequences\n",
    "consonant_seq_words = re.findall(r\"\\b\\w*[^aeiou\\W]{2,}\\w*\\b\", text.lower())\n",
    "print(f\"  Words with 2+ consecutive consonants: {consonant_seq_words}\")\n",
    "\n",
    "# Combining quantifiers with groups\n",
    "print(\"\\nCombining quantifiers with groups:\")\n",
    "repeated_words_text = \"The the quick quick brown fox fox jumps over over the lazy dog\"\n",
    "repeated_words = re.findall(r\"\\b(\\w+)( \\1)+\\b\", repeated_words_text.lower())\n",
    "print(f\"  Repeated words: {[match[0] for match in repeated_words]}\")\n",
    "\n",
    "# Optional groups with quantifiers\n",
    "date_text = \"Dates: 01/02/2023, 1-2-2023, 2023-01-02\"\n",
    "dates = re.findall(r\"\\b(\\d{1,2}[-/]\\d{1,2}[-/]\\d{2,4}|\\d{4}[-/]\\d{1,2}[-/]\\d{1,2})\\b\", date_text)\n",
    "print(f\"  Flexible date formats: {dates}\")\n"
   ]
  },
  {
   "cell_type": "markdown",
   "id": "3935d91b",
   "metadata": {},
   "source": [
    "## Practical Applications"
   ]
  },
  {
   "cell_type": "code",
   "execution_count": 15,
   "id": "3d3ff60e",
   "metadata": {},
   "outputs": [
    {
     "name": "stdout",
     "output_type": "stream",
     "text": [
      "Email validation:\n",
      "  user@example.com: Valid\n",
      "  john.doe@company.co.uk: Valid\n",
      "  invalid@: Invalid\n",
      "  missing-domain@.com: Invalid\n",
      "  special#char@domain.com: Invalid\n",
      "\n",
      "URLs found: ['https://www.example.com', 'http://subdomain.example.org/path?query=value']\n",
      "\n",
      "Phone number validation:\n",
      "  123-456-7890: Valid\n",
      "  (123) 456-7890: Valid\n",
      "  +1 123-456-7890: Valid\n",
      "  123.456.7890: Invalid\n",
      "  1234567890: Valid\n",
      "  123-456-78: Invalid\n",
      "  +2 123-456-7890: Invalid\n",
      "\n",
      "Password strength validation:\n",
      "  password: Weak\n",
      "  Password: Weak\n",
      "  Password1: Weak\n",
      "  P@ssw0rd: Strong\n"
     ]
    }
   ],
   "source": [
    "# Example 1: Email validation\n",
    "def is_valid_email(email):\n",
    "    # Email validation pattern using quantifiers\n",
    "    pattern = r\"^[a-zA-Z0-9._%+-]+@[a-zA-Z0-9.-]+\\.[a-zA-Z]{2,}$\"\n",
    "    return bool(re.match(pattern, email))\n",
    "\n",
    "emails = [\"user@example.com\", \"john.doe@company.co.uk\", \"invalid@\", \n",
    "         \"missing-domain@.com\", \"special#char@domain.com\"]\n",
    "\n",
    "print(\"Email validation:\")\n",
    "for email in emails:\n",
    "    print(f\"  {email}: {'Valid' if is_valid_email(email) else 'Invalid'}\")\n",
    "\n",
    "# Example 2: URL extraction\n",
    "text = \"Visit our website at https://www.example.com or http://subdomain.example.org/path?query=value\"\n",
    "url_pattern = r\"https?://(?:www\\.)?[a-zA-Z0-9.-]+\\.[a-zA-Z]{2,}(?:/[^\\s]*)?\"\n",
    "urls = re.findall(url_pattern, text)\n",
    "print(f\"\\nURLs found: {urls}\")\n",
    "\n",
    "# Example 3: Phone number validation\n",
    "def is_valid_phone(phone):\n",
    "    \"\"\"Validate North American phone numbers in various formats.\"\"\"\n",
    "    pattern = r\"^(?:\\+1[-\\s]?)?(?:\\(?([0-9]{3})\\)?[-\\s]?)?([0-9]{3})[-\\s]?([0-9]{4})$\"\n",
    "    return bool(re.match(pattern, phone))\n",
    "\n",
    "phone_numbers = [\n",
    "    \"123-456-7890\", \n",
    "    \"(123) 456-7890\", \n",
    "    \"+1 123-456-7890\",\n",
    "    \"123.456.7890\", \n",
    "    \"1234567890\",\n",
    "    \"123-456-78\",  # Invalid\n",
    "    \"+2 123-456-7890\"  # Invalid\n",
    "]\n",
    "\n",
    "print(\"\\nPhone number validation:\")\n",
    "for phone in phone_numbers:\n",
    "    print(f\"  {phone}: {'Valid' if is_valid_phone(phone) else 'Invalid'}\")\n",
    "\n",
    "# Example 4: Password strength with quantifiers\n",
    "def is_strong_password(password):\n",
    "    \"\"\"\n",
    "    Check if a password is strong:\n",
    "    - At least 8 characters long\n",
    "    - Contains at least 1 uppercase letter\n",
    "    - Contains at least 1 lowercase letter\n",
    "    - Contains at least 1 digit\n",
    "    - Contains at least 1 special character\n",
    "    \"\"\"\n",
    "    if len(password) < 8:\n",
    "        return False\n",
    "    \n",
    "    # Check for at least one uppercase, lowercase, digit, and special character\n",
    "    patterns = [\n",
    "        r\"[A-Z]+\",      # At least one uppercase letter\n",
    "        r\"[a-z]+\",      # At least one lowercase letter\n",
    "        r\"[0-9]+\",      # At least one digit\n",
    "        r\"[^a-zA-Z0-9]+\"  # At least one special character\n",
    "    ]\n",
    "    \n",
    "    return all(re.search(pattern, password) for pattern in patterns)\n",
    "\n",
    "passwords = [\"password\", \"Password\", \"Password1\", \"P@ssw0rd\"]\n",
    "print(\"\\nPassword strength validation:\")\n",
    "for password in passwords:\n",
    "    print(f\"  {password}: {'Strong' if is_strong_password(password) else 'Weak'}\")"
   ]
  },
  {
   "cell_type": "code",
   "execution_count": null,
   "id": "f665eccd",
   "metadata": {},
   "outputs": [],
   "source": []
  }
 ],
 "metadata": {
  "kernelspec": {
   "display_name": "Python 3",
   "language": "python",
   "name": "python3"
  },
  "language_info": {
   "codemirror_mode": {
    "name": "ipython",
    "version": 3
   },
   "file_extension": ".py",
   "mimetype": "text/x-python",
   "name": "python",
   "nbconvert_exporter": "python",
   "pygments_lexer": "ipython3",
   "version": "3.9.12"
  }
 },
 "nbformat": 4,
 "nbformat_minor": 5
}
