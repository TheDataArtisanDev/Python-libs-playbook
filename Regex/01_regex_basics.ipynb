{
 "cells": [
  {
   "cell_type": "markdown",
   "id": "fd37c709",
   "metadata": {},
   "source": [
    "**Table of contents**<a id='toc0_'></a>    \n",
    "- [Introduction to Regular Expressions](#toc1_)    \n",
    "  - [Key Functions in the `re` Module](#toc1_1_)    \n",
    "  - [Raw Strings](#toc1_2_)    \n",
    "- [Basic Pattern Matching](#toc2_)    \n",
    "  - [Literal Characters](#toc2_1_)    \n",
    "  - [Escape Characters](#toc2_2_)    \n",
    "  - [Wildcard character](#toc2_3_)    \n",
    "- [Examples](#toc3_)    \n",
    "\n",
    "<!-- vscode-jupyter-toc-config\n",
    "\tnumbering=false\n",
    "\tanchor=true\n",
    "\tflat=false\n",
    "\tminLevel=1\n",
    "\tmaxLevel=6\n",
    "\t/vscode-jupyter-toc-config -->\n",
    "<!-- THIS CELL WILL BE REPLACED ON TOC UPDATE. DO NOT WRITE YOUR TEXT IN THIS CELL -->"
   ]
  },
  {
   "cell_type": "markdown",
   "id": "f2ecb62a",
   "metadata": {},
   "source": [
    "# <a id='toc1_'></a>[Introduction to Regular Expressions](#toc0_)"
   ]
  },
  {
   "cell_type": "code",
   "execution_count": 13,
   "id": "92d9cead",
   "metadata": {},
   "outputs": [],
   "source": [
    "import re"
   ]
  },
  {
   "cell_type": "code",
   "execution_count": 14,
   "id": "c7e5e77a",
   "metadata": {},
   "outputs": [
    {
     "name": "stdout",
     "output_type": "stream",
     "text": [
      "Pattern found: Hello\n"
     ]
    }
   ],
   "source": [
    "# Basic example of a regex match\n",
    "\n",
    "text = \"Hello, World!\"\n",
    "pattern = r\"Hello\"\n",
    "result = re.search(pattern, text)\n",
    "\n",
    "if result:\n",
    "    print(f\"Pattern found: {result.group()}\")\n",
    "else:\n",
    "    print(\"Pattern not found\")"
   ]
  },
  {
   "cell_type": "markdown",
   "id": "2649b47c",
   "metadata": {},
   "source": [
    "## <a id='toc1_1_'></a>[Key Functions in the `re` Module](#toc0_)\n",
    "\n",
    "Python's `re` module provides several functions for working with regex:\n",
    "\n",
    "- `re.search()` - Finds the first match of a pattern within a string\n",
    "- `re.match()` - Checks if a pattern matches at the beginning of a string\n",
    "- `re.findall()` - Returns all non-overlapping matches as a list\n",
    "- `re.finditer()` - Returns an iterator of match objects\n",
    "- `re.sub()` - Replaces matches with a replacement string\n",
    "- `re.split()` - Splits a string by pattern matches"
   ]
  },
  {
   "cell_type": "code",
   "execution_count": 15,
   "id": "a0ce98cd",
   "metadata": {},
   "outputs": [
    {
     "name": "stdout",
     "output_type": "stream",
     "text": [
      "search result: Python\n",
      "match result: Python\n",
      "findall result: ['Python', 'Python']\n",
      "Found 'Python' at position 0\n",
      "Found 'Python' at position 19\n",
      "sub result: Regex is amazing. Regex is powerful.\n",
      "split result: ['Python is amazing', ' Python is powerful', '']\n"
     ]
    }
   ],
   "source": [
    "text = \"Python is amazing. Python is powerful.\"\n",
    "\n",
    "# re.search() - Returns the first match\n",
    "search_result = re.search(r\"Python\", text)\n",
    "print(f\"search result: {search_result.group()}\")  # Outputs: Python\n",
    "\n",
    "# re.match() - Matches only at the beginning of the string\n",
    "match_result = re.match(r\"Python\", text)\n",
    "print(f\"match result: {match_result.group() if match_result else 'No match'}\")  # Outputs: Python\n",
    "\n",
    "# re.findall() - Returns all matches as a list\n",
    "findall_result = re.findall(r\"Python\", text)\n",
    "print(f\"findall result: {findall_result}\")  # Outputs: ['Python', 'Python']\n",
    "\n",
    "# re.finditer() - Returns an iterator of match objects\n",
    "finditer_result = re.finditer(r\"Python\", text)\n",
    "for match in finditer_result:\n",
    "    print(f\"Found '{match.group()}' at position {match.start()}\")\n",
    "\n",
    "# re.sub() - Substitutes matches with replacement\n",
    "sub_result = re.sub(r\"Python\", \"Regex\", text)\n",
    "print(f\"sub result: {sub_result}\")  # Outputs: Regex is amazing. Regex is powerful.\n",
    "\n",
    "# re.split() - Splits the string by pattern matches\n",
    "split_result = re.split(r\"\\.\", text)\n",
    "print(f\"split result: {split_result}\")  # Outputs: ['Python is amazing', ' Python is powerful', '']"
   ]
  },
  {
   "cell_type": "code",
   "execution_count": 16,
   "id": "8d83ef43",
   "metadata": {},
   "outputs": [
    {
     "name": "stdout",
     "output_type": "stream",
     "text": [
      "\\d+\n",
      "\\\\d+\n",
      "C:\\Users\\Username\\Documents\n",
      "C:\\Users\\Username\\Documents\n"
     ]
    }
   ],
   "source": [
    "# Without raw string - need double backslash for literal backslash\n",
    "pattern1 = \"\\\\d+\"  \n",
    "print(pattern1)  # Outputs: \\d+\n",
    "\n",
    "# With raw string (preferred) - more readable\n",
    "pattern2 = r\"\\\\d+\"\n",
    "print(pattern2)  # Outputs: \\\\d+\n",
    "\n",
    "# Example with a file path (why raw strings are useful)\n",
    "windows_path = \"C:\\\\Users\\\\Username\\\\Documents\"  # Without raw string\n",
    "windows_path_raw = r\"C:\\Users\\Username\\Documents\"  # With raw string\n",
    "\n",
    "print(windows_path)\n",
    "print(windows_path_raw)  # Both output the same, but raw string is more readable"
   ]
  },
  {
   "cell_type": "code",
   "execution_count": 17,
   "id": "d67219a3",
   "metadata": {},
   "outputs": [
    {
     "name": "stdout",
     "output_type": "stream",
     "text": [
      "\\d+\n",
      "\\d+\n"
     ]
    }
   ],
   "source": [
    "# Example: Raw strings vs normal strings\n",
    "\n",
    "# Without raw string - need double backslash for literal backslash\n",
    "pattern1 = \"\\\\d+\"  \n",
    "print(pattern1)  # Outputs: \\d+\n",
    "\n",
    "# With raw string (preferred) - more readable\n",
    "pattern2 = r\"\\d+\"\n",
    "print(pattern2)  # Outputs: \\d+"
   ]
  },
  {
   "cell_type": "markdown",
   "id": "9a8d1f6d",
   "metadata": {},
   "source": [
    "# <a id='toc2_'></a>[Basic Pattern Matching](#toc0_)"
   ]
  },
  {
   "cell_type": "markdown",
   "id": "95d80e91",
   "metadata": {},
   "source": [
    "## <a id='toc2_1_'></a>[Literal Characters](#toc0_)"
   ]
  },
  {
   "cell_type": "code",
   "execution_count": 18,
   "id": "4cdf3bce",
   "metadata": {},
   "outputs": [
    {
     "name": "stdout",
     "output_type": "stream",
     "text": [
      "Found: brown\n"
     ]
    }
   ],
   "source": [
    "text = \"The quick brown fox jumps over the lazy dog\"\n",
    "\n",
    "# Matching literal words\n",
    "result = re.search(r\"brown\", text)\n",
    "print(f\"Found: {result.group()}\")  # Outputs: Found: brown\n"
   ]
  },
  {
   "cell_type": "markdown",
   "id": "74435923",
   "metadata": {},
   "source": [
    "## Case sensitivity"
   ]
  },
  {
   "cell_type": "code",
   "execution_count": 19,
   "id": "092e06ce",
   "metadata": {},
   "outputs": [
    {
     "name": "stdout",
     "output_type": "stream",
     "text": [
      "Found (case-insensitive): brown\n"
     ]
    }
   ],
   "source": [
    "\n",
    "# Case-insensitive matching using flags\n",
    "result = re.search(r\"BROWN\", text, re.IGNORECASE)\n",
    "print(f\"Found (case-insensitive): {result.group()}\")  # Found (case-insensitive): brown"
   ]
  },
  {
   "cell_type": "markdown",
   "id": "1f548e7a",
   "metadata": {},
   "source": [
    "## <a id='toc1_2_'></a>[Raw Strings](#toc0_)\n",
    "\n",
    "It's recommended to use raw strings (prefix with `r`) when defining regex patterns \n",
    "to avoid unintended escape sequences:"
   ]
  },
  {
   "cell_type": "markdown",
   "id": "0e86d12b",
   "metadata": {},
   "source": [
    "### Why Use Raw Strings in Regex?\n",
    "\n",
    "Raw strings (prefix with `r`) are recommended for regex patterns to avoid issues with escape sequences. \n",
    "\n",
    "For example, `\\d` in a normal string would require double backslashes (`\\\\d`), but in a raw string, \n",
    "you can simply write `r\"\\d\"`. This makes regex patterns more readable and less error-prone."
   ]
  },
  {
   "cell_type": "markdown",
   "id": "f27b21d6",
   "metadata": {},
   "source": [
    "## <a id='toc2_2_'></a>[Escape Characters](#toc0_)"
   ]
  },
  {
   "cell_type": "markdown",
   "id": "d15e1384",
   "metadata": {},
   "source": [
    "Special regex characters: . ^ $ * + ? { } [ ] \\ | ( )\n",
    "\n",
    "These need to be escaped with a backslash to match them literally."
   ]
  },
  {
   "cell_type": "code",
   "execution_count": 20,
   "id": "507b48c4",
   "metadata": {},
   "outputs": [
    {
     "name": "stdout",
     "output_type": "stream",
     "text": [
      "Price found: $10.99\n",
      "Full match: (42)\n",
      "Inside parens: 42\n"
     ]
    }
   ],
   "source": [
    "text = \"What is the cost? It's $10.99.\"\n",
    "\n",
    "# Escaping special characters to match them literally\n",
    "price_pattern = r\"\\$\\d+\\.\\d+\"\n",
    "price = re.search(price_pattern, text)\n",
    "print(f\"Price found: {price.group()}\")  # Outputs: Price found: $10.99\n",
    "\n",
    "# Another example with parentheses\n",
    "text_with_parens = \"The result (42) is interesting.\"\n",
    "parens_pattern = r\"\\((\\d+)\\)\"\n",
    "parens_match = re.search(parens_pattern, text_with_parens)\n",
    "if parens_match:\n",
    "    print(f\"Full match: {parens_match.group(0)}\")  # (42)\n",
    "    print(f\"Inside parens: {parens_match.group(1)}\")  # 42"
   ]
  },
  {
   "cell_type": "markdown",
   "id": "2d8062d4",
   "metadata": {},
   "source": [
    "### Notes on Regex Special Characters\n",
    "\n",
    "Regex uses special characters like `. ^ $ * + ? { } [ ] \\ | ( )` to define patterns. \n",
    "If you want to match these characters literally, you need to escape them with a backslash (`\\`).\n",
    "\n",
    "For example:\n",
    "- To match a literal dot (`.`), use `\\.`.\n",
    "- To match a dollar sign (`$`), use `\\$`."
   ]
  },
  {
   "cell_type": "code",
   "execution_count": 21,
   "id": "2bf85ea9",
   "metadata": {},
   "outputs": [
    {
     "name": "stdout",
     "output_type": "stream",
     "text": [
      "Price found: $10.99\n"
     ]
    }
   ],
   "source": [
    "# Example: Escaping special characters\n",
    "text = \"What is the cost? It's $10.99.\"\n",
    "\n",
    "# Escaping special characters to match them literally\n",
    "price_pattern = r\"\\$\\d+\\.\\d+\"\n",
    "price = re.search(price_pattern, text)\n",
    "print(f\"Price found: {price.group()}\")  # Outputs: $10.99"
   ]
  },
  {
   "cell_type": "markdown",
   "id": "f3dc657d",
   "metadata": {},
   "source": [
    "## <a id='toc2_3_'></a>[Wildcard character](#toc0_)"
   ]
  },
  {
   "cell_type": "markdown",
   "id": "b3b2e90e",
   "metadata": {},
   "source": [
    "The dot (.) matches any character except a newline.\n"
   ]
  },
  {
   "cell_type": "code",
   "execution_count": 22,
   "id": "16c4c9d9",
   "metadata": {},
   "outputs": [
    {
     "name": "stdout",
     "output_type": "stream",
     "text": [
      "[' bat', ' cat', ' rat', ' sat', ' mat']\n",
      "IP address: 192.168.0.1\n",
      "Text between 'bat' and 'mat': ', cat, and rat sat on the '\n"
     ]
    }
   ],
   "source": [
    "text = \"The bat, cat, and rat sat on the mat.\"\n",
    "\n",
    "# . matches any character except newline\n",
    "pattern = r\"..at\"\n",
    "matches = re.findall(pattern, text)\n",
    "print(matches)  # Outputs: ['bat', 'cat', 'rat', 'sat', 'mat']\n",
    "\n",
    "# To match a literal dot, escape it\n",
    "ip_pattern = r\"\\d+\\.\\d+\\.\\d+\\.\\d+\"\n",
    "ip_address = \"Server IP is 192.168.0.1\"\n",
    "ip_match = re.search(ip_pattern, ip_address)\n",
    "print(f\"IP address: {ip_match.group() if ip_match else 'Not found'}\")\n",
    "\n",
    "# Using dot to match anything between two words\n",
    "between_pattern = r\"bat(.*)mat\"\n",
    "between_match = re.search(between_pattern, text)\n",
    "print(f\"Text between 'bat' and 'mat': '{between_match.group(1)}'\")  # ', cat, and rat sat on the '"
   ]
  },
  {
   "cell_type": "markdown",
   "id": "46ee29d8",
   "metadata": {},
   "source": [
    "### Wildcard Character in Regex\n",
    "\n",
    "The dot (`.`) is a special character in regex that matches any character except a newline. \n",
    "For example, `r\"..at\"` will match any two characters followed by `at`.\n",
    "\n",
    "If you want to match a literal dot, you need to escape it using `\\.`."
   ]
  },
  {
   "cell_type": "code",
   "execution_count": null,
   "id": "4f724dc3",
   "metadata": {},
   "outputs": [
    {
     "name": "stdout",
     "output_type": "stream",
     "text": [
      "[' bat', ' cat', ' rat', ' sat', ' mat', 'mmat', 'haat', 'eeat']\n"
     ]
    }
   ],
   "source": [
    "# Example: Using the wildcard character\n",
    "text = \"The bat, cat, and rat sat on the mat mmat chaat cheeeat\"\n",
    "\n",
    "# . matches any character except newline. The output will include all words that have two characters followed by 'at'. \n",
    "# It only contains 4 characters in the output.\n",
    "pattern = r\"..at\"\n",
    "matches = re.findall(pattern, text)\n",
    "print(matches)  # Outputs: ['bat', 'cat', 'rat', 'sat', 'mat']"
   ]
  },
  {
   "cell_type": "markdown",
   "id": "3e82f614",
   "metadata": {},
   "source": [
    "# <a id='toc3_'></a>[Examples](#toc0_)"
   ]
  },
  {
   "cell_type": "markdown",
   "id": "8686c886",
   "metadata": {},
   "source": [
    "### Practical Examples of Regex\n",
    "\n",
    "Here are some practical examples of regex usage:\n",
    "\n",
    "- Extracting email addresses from text\n",
    "- Finding words that start with a specific letter\n",
    "- Reformatting phone numbers"
   ]
  },
  {
   "cell_type": "code",
   "execution_count": 11,
   "id": "5832f99d",
   "metadata": {},
   "outputs": [
    {
     "name": "stdout",
     "output_type": "stream",
     "text": [
      "Simple email extraction: ['info@example.com', 'support@company.co']\n",
      "Words starting with 'p': ['Python', 'powerful', 'programming']\n",
      "Reformatted: Call me at (123) 456-7890\n"
     ]
    }
   ],
   "source": [
    "# Example 1: Extract email addresses\n",
    "text = \"Contact us at info@example.com or support@company.co.uk\"\n",
    "emails = re.findall(r\"\\w+@\\w+\\.\\w+\", text)\n",
    "print(f\"Simple email extraction: {emails}\")\n",
    "\n",
    "# Example 2: Find all words starting with 'p'\n",
    "text = \"Python is a powerful programming language\"\n",
    "p_words = re.findall(r\"\\bp\\w+\", text, re.IGNORECASE)\n",
    "print(f\"Words starting with 'p': {p_words}\")\n",
    "\n",
    "# Example 3: Replace phone number format\n",
    "text = \"Call me at 123-456-7890\"\n",
    "formatted = re.sub(r\"(\\d{3})-(\\d{3})-(\\d{4})\", r\"(\\1) \\2-\\3\", text)\n",
    "print(f\"Reformatted: {formatted}\")  # Call me at (123) 456-7890"
   ]
  },
  {
   "cell_type": "code",
   "execution_count": 28,
   "id": "ba2ca42e",
   "metadata": {},
   "outputs": [
    {
     "name": "stdout",
     "output_type": "stream",
     "text": [
      "Area codes: ['555', '123', '456', '123', '456', '789']\n",
      "'john_doe' is valid: True\n",
      "'jane.doe' is valid: False\n",
      "'user123' is valid: True\n",
      "'user-name' is valid: False\n",
      "Words starting with 'p' and ending with 'n': ['Python', 'pen']\n"
     ]
    }
   ],
   "source": [
    "# Example 1: Extracting area codes from phone numbers\n",
    "phone_numbers = \"Call 555-123-4567 or (123) 456-7890 for assistance\"\n",
    "area_codes = re.findall(r\"\\(?(\\d{3})\\)?\", phone_numbers)\n",
    "print(f\"Area codes: {area_codes}\")  # Outputs: ['555', '123']\n",
    "\n",
    "# Example 2: Validating username format (letters, numbers, underscores only)\n",
    "def is_valid_username(username):\n",
    "    pattern = r\"^[a-zA-Z0-9_]+$\"\n",
    "    return bool(re.match(pattern, username))\n",
    "\n",
    "usernames = [\"john_doe\", \"jane.doe\", \"user123\", \"user-name\"]\n",
    "for username in usernames:\n",
    "    print(f\"'{username}' is valid: {is_valid_username(username)}\")\n",
    "\n",
    "# Example 3: Finding words with specific pattern \n",
    "# (words that start with 'p' and end with 'n')\n",
    "text = \"Python is a programming language. A pen is on the table.\"\n",
    "p_words = re.findall(r\"\\b[pP][a-zA-Z]*n\\b\", text)\n",
    "print(f\"Words starting with 'p' and ending with 'n': {p_words}\")  # Python, programming, pen\n"
   ]
  },
  {
   "cell_type": "code",
   "execution_count": null,
   "id": "7903b7e8",
   "metadata": {},
   "outputs": [],
   "source": []
  }
 ],
 "metadata": {
  "kernelspec": {
   "display_name": "Python 3",
   "language": "python",
   "name": "python3"
  },
  "language_info": {
   "codemirror_mode": {
    "name": "ipython",
    "version": 3
   },
   "file_extension": ".py",
   "mimetype": "text/x-python",
   "name": "python",
   "nbconvert_exporter": "python",
   "pygments_lexer": "ipython3",
   "version": "3.9.12"
  }
 },
 "nbformat": 4,
 "nbformat_minor": 5
}
