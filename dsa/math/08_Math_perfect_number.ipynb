{
 "cells": [
  {
   "cell_type": "markdown",
   "id": "2304f5f2",
   "metadata": {},
   "source": [
    "# 01 Perfect Number\n",
    "\n",
    "**Problem:** Number equals sum of its proper divisors.\n",
    "\n",
    "**Example:** \n",
    "```\n",
    "28 = 1 + 2 + 4 + 7 + 14 (proper divisors)\n",
    "So 28 is perfect!\n",
    "```\n",
    "\n",
    "**Key Insight:** Only check divisors up to √n for efficiency.\n",
    "\n",
    "## 🔗 Navigation\n",
    "- [← Back to Index](../challenges.ipynb)\n",
    "- [Next: Counting Bits →](./02_counting_bits.ipynb)"
   ]
  },
  {
   "cell_type": "code",
   "execution_count": null,
   "id": "d3d7d710",
   "metadata": {},
   "outputs": [],
   "source": [
    "def checkPerfectNumber(num):\n",
    "    \"\"\"\n",
    "    Example: 28 = 1 + 2 + 4 + 7 + 14 (proper divisors)\n",
    "    So 28 is perfect!\n",
    "    \"\"\"\n",
    "    if num <= 1:\n",
    "        return False\n",
    "    \n",
    "    divisor_sum = 1  # 1 is always a proper divisor\n",
    "    \n",
    "    # Only check up to sqrt(num)\n",
    "    for i in range(2, int(num**0.5) + 1):\n",
    "        if num % i == 0:\n",
    "            divisor_sum += i\n",
    "            # Add the paired divisor (but avoid counting sqrt twice)\n",
    "            if i != num // i:\n",
    "                divisor_sum += num // i\n",
    "    \n",
    "    return divisor_sum == num\n",
    "\n",
    "# Note: There are only 5 perfect numbers under 10^8:\n",
    "# 6, 28, 496, 8128, 33550336\n",
    "def checkPerfectNumber_lookup(num):\n",
    "    perfect_numbers = {6, 28, 496, 8128, 33550336}\n",
    "    return num in perfect_numbers"
   ]
  },
  {
   "cell_type": "code",
   "execution_count": null,
   "id": "5308c972",
   "metadata": {},
   "outputs": [],
   "source": [
    "# Test perfect numbers\n",
    "test_numbers = [6, 28, 12, 496, 8128]\n",
    "\n",
    "for num in test_numbers:\n",
    "    result = checkPerfectNumber(num)\n",
    "    print(f\"{num} is {'perfect' if result else 'not perfect'}\")"
   ]
  }
 ],
 "metadata": {
  "language_info": {
   "name": "python"
  }
 },
 "nbformat": 4,
 "nbformat_minor": 5
}
