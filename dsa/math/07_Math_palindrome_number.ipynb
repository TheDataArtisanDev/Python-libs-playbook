{
 "cells": [
  {
   "cell_type": "markdown",
   "id": "9d00d04a",
   "metadata": {},
   "source": [
    "#  Math - Palindrome Number\n",
    "\n",
    "## Problem Statement\n",
    "Given an integer `x`, return `true` if `x` is palindrome integer.\n",
    "\n",
    "An integer is a palindrome when it reads the same backward as forward.\n",
    "\n",
    "## Examples\n",
    "```\n",
    "Input: x = 121\n",
    "Output: true\n",
    "\n",
    "Input: x = -121\n",
    "Output: false\n",
    "\n",
    "Input: x = 10\n",
    "Output: false\n",
    "```"
   ]
  },
  {
   "cell_type": "code",
   "execution_count": null,
   "id": "14a403ae",
   "metadata": {},
   "outputs": [],
   "source": [
    "def is_palindrome_string(x):\n",
    "    s = str(x)\n",
    "    return s == s[::-1]\n",
    "\n",
    "def is_palindrome_math(x):\n",
    "    if x < 0:\n",
    "        return False\n",
    "    original = x\n",
    "    reversed_num = 0\n",
    "    while x > 0:\n",
    "        reversed_num = reversed_num * 10 + x % 10\n",
    "        x //= 10\n",
    "    return original == reversed_num\n",
    "\n",
    "def is_palindrome_half_reverse(x):\n",
    "    if x < 0 or (x % 10 == 0 and x != 0):\n",
    "        return False\n",
    "    reversed_half = 0\n",
    "    while x > reversed_half:\n",
    "        reversed_half = reversed_half * 10 + x % 10\n",
    "        x //= 10\n",
    "    return x == reversed_half or x == reversed_half // 10\n",
    "\n",
    "test_cases = [121, -121, 10, 0, 1221, 12321, 123]\n",
    "\n",
    "print(\"🔍 Palindrome Number:\")\n",
    "for i, x in enumerate(test_cases, 1):\n",
    "    string_result = is_palindrome_string(x)\n",
    "    math_result = is_palindrome_math(x)\n",
    "    half_result = is_palindrome_half_reverse(x)\n",
    "    print(f\"Test {i}: {x} → {string_result}\")"
   ]
  },
  {
   "cell_type": "markdown",
   "id": "908492e1",
   "metadata": {},
   "source": [
    "## 💡 Key Insights\n",
    "\n",
    "### Three Approaches\n",
    "1. String Conversion: Simple but uses extra space\n",
    "2. Full Number Reversal: Mathematical approach, O(1) space\n",
    "3. Half Reversal: Optimized, only reverse half digits\n",
    "\n",
    "### Edge Cases\n",
    "- Negative numbers: Always false\n",
    "- Numbers ending in 0: False (except 0 itself)\n",
    "- Single digit: Always true\n",
    "\n",
    "## 🎯 Practice Tips\n",
    "1. Consider space complexity requirements\n",
    "2. Mathematical manipulation often avoids string conversion\n",
    "3. Half-reversal optimization reduces operations by half"
   ]
  }
 ],
 "metadata": {
  "language_info": {
   "name": "python"
  }
 },
 "nbformat": 4,
 "nbformat_minor": 5
}
