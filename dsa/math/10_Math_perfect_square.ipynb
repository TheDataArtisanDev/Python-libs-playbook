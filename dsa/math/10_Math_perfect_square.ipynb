{
 "cells": [
  {
   "cell_type": "markdown",
   "id": "121a7e6e",
   "metadata": {},
   "source": [
    "# 03 Valid Perfect Square\n",
    "\n",
    "**Problem:** Check if number is perfect square without using sqrt.\n",
    "\n",
    "**Example:** \n",
    "```\n",
    "num = 16\n",
    "Try: 1² = 1, 2² = 4, 3² = 9, 4² = 16 ✓\n",
    "```\n",
    "\n",
    "**Key Insight:** Use binary search or Newton's method for efficient checking.\n",
    "\n",
    "## 🔗 Navigation\n",
    "- [← Previous: Counting Bits](./02_counting_bits.ipynb)\n",
    "- [Next: Power of Three →](./04_power_of_three.ipynb)"
   ]
  },
  {
   "cell_type": "code",
   "execution_count": null,
   "id": "da0ccf44",
   "metadata": {},
   "outputs": [],
   "source": [
    "def isPerfectSquare(num):\n",
    "    \"\"\"\n",
    "    Example: num = 16\n",
    "    Try: 1² = 1, 2² = 4, 3² = 9, 4² = 16 ✓\n",
    "    \"\"\"\n",
    "    if num < 1:\n",
    "        return False\n",
    "    \n",
    "    # Binary search approach\n",
    "    left, right = 1, num\n",
    "    \n",
    "    while left <= right:\n",
    "        mid = (left + right) // 2\n",
    "        square = mid * mid\n",
    "        \n",
    "        if square == num:\n",
    "            return True\n",
    "        elif square < num:\n",
    "            left = mid + 1\n",
    "        else:\n",
    "            right = mid - 1\n",
    "    \n",
    "    return False"
   ]
  },
  {
   "cell_type": "code",
   "execution_count": null,
   "id": "dfc56034",
   "metadata": {},
   "outputs": [],
   "source": [
    "# Test the function\n",
    "test_numbers = [16, 14, 25, 36, 24]\n",
    "\n",
    "for num in test_numbers:\n",
    "    result = isPerfectSquare(num)\n",
    "    print(f\"{num} is {'a' if result else 'not a'} perfect square\")"
   ]
  }
 ],
 "metadata": {
  "language_info": {
   "name": "python"
  }
 },
 "nbformat": 4,
 "nbformat_minor": 5
}
