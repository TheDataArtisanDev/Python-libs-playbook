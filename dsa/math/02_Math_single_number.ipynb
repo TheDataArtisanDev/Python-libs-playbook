{
 "cells": [
  {
   "cell_type": "markdown",
   "id": "7e6c735c",
   "metadata": {},
   "source": [
    "# Single Number\n",
    "\n",
    "## Problem Statement\n",
    "Given a non-empty array of integers `nums`, every element appears twice except for one. Find that single one.\n",
    "\n",
    "You must implement a solution with a linear runtime complexity and use only constant extra space.\n",
    "\n",
    "## Examples\n",
    "```\n",
    "Input: nums = [2,2,1]\n",
    "Output: 1\n",
    "\n",
    "Input: nums = [4,1,2,1,2]\n",
    "Output: 4\n",
    "\n",
    "Input: nums = [1]\n",
    "Output: 1\n",
    "```"
   ]
  },
  {
   "cell_type": "code",
   "execution_count": 3,
   "id": "265743a9",
   "metadata": {},
   "outputs": [],
   "source": [
    "def single_number_xor(nums):\n",
    "    \"\"\"\n",
    "    XOR Bit Manipulation (Optimal)\n",
    "    Time Complexity: O(n)\n",
    "    Space Complexity: O(1)\n",
    "    \"\"\"\n",
    "    result = 0\n",
    "    for num in nums:\n",
    "        result ^= num\n",
    "    return result"
   ]
  },
  {
   "cell_type": "code",
   "execution_count": 4,
   "id": "90b322d6",
   "metadata": {},
   "outputs": [
    {
     "name": "stdout",
     "output_type": "stream",
     "text": [
      "🔍 Single Number:\n",
      "Test 1: [2, 2, 1] → 1\n",
      "Test 2: [4, 1, 2, 1, 2] → 4\n",
      "Test 3: [1] → 1\n",
      "Test 4: [7, 3, 7, 3, 5] → 5\n"
     ]
    }
   ],
   "source": [
    "# Test cases\n",
    "test_cases = [\n",
    "    [2, 2, 1],\n",
    "    [4, 1, 2, 1, 2],\n",
    "    [1],\n",
    "    [7, 3, 7, 3, 5]\n",
    "]\n",
    "\n",
    "print(\"🔍 Single Number:\")\n",
    "for i, nums in enumerate(test_cases, 1):\n",
    "    xor_result = single_number_xor(nums)\n",
    "    print(f\"Test {i}: {nums} → {xor_result}\")"
   ]
  },
  {
   "cell_type": "code",
   "execution_count": 7,
   "id": "06c10569",
   "metadata": {},
   "outputs": [],
   "source": [
    "def single_number_hash_set(nums):\n",
    "    \"\"\"\n",
    "    Hash Set Approach\n",
    "    Time Complexity: O(n)\n",
    "    Space Complexity: O(n)\n",
    "    \"\"\"\n",
    "    seen = set()\n",
    "    for num in nums:\n",
    "        if num in seen:\n",
    "            seen.remove(num)\n",
    "        else:\n",
    "            seen.add(num)\n",
    "    return seen.pop()"
   ]
  },
  {
   "cell_type": "code",
   "execution_count": 8,
   "id": "c4f04338",
   "metadata": {},
   "outputs": [
    {
     "name": "stdout",
     "output_type": "stream",
     "text": [
      "🔍 Single Number:\n",
      "Test 1: [2, 2, 1] → 1\n",
      "Test 2: [4, 1, 2, 1, 2] → 4\n",
      "Test 3: [1] → 1\n",
      "Test 4: [7, 3, 7, 3, 5] → 5\n"
     ]
    }
   ],
   "source": [
    "# Test cases\n",
    "test_cases = [\n",
    "    [2, 2, 1],\n",
    "    [4, 1, 2, 1, 2],\n",
    "    [1],\n",
    "    [7, 3, 7, 3, 5]\n",
    "]\n",
    "\n",
    "print(\"🔍 Single Number:\")\n",
    "for i, nums in enumerate(test_cases, 1):\n",
    "    hash_result = single_number_hash_set(nums)\n",
    "    print(f\"Test {i}: {nums} → {hash_result}\")"
   ]
  },
  {
   "cell_type": "code",
   "execution_count": 9,
   "id": "86013e7c",
   "metadata": {},
   "outputs": [
    {
     "name": "stdout",
     "output_type": "stream",
     "text": [
      "🔍 Single Number:\n",
      "Test 1: [2, 2, 1] → 1\n",
      "Test 2: [4, 1, 2, 1, 2] → 4\n",
      "Test 3: [1] → 1\n",
      "Test 4: [7, 3, 7, 3, 5] → 5\n"
     ]
    }
   ],
   "source": [
    "def single_number_math(nums):\n",
    "    \"\"\"\n",
    "    Mathematical Approach\n",
    "    Time Complexity: O(n)\n",
    "    Space Complexity: O(n)\n",
    "    \"\"\"\n",
    "    # 2 * (sum of unique numbers) - sum of all numbers = single number\n",
    "    return 2 * sum(set(nums)) - sum(nums)\n",
    "\n",
    "# Test cases\n",
    "test_cases = [\n",
    "    [2, 2, 1],\n",
    "    [4, 1, 2, 1, 2],\n",
    "    [1],\n",
    "    [7, 3, 7, 3, 5]\n",
    "]\n",
    "\n",
    "print(\"🔍 Single Number:\")\n",
    "for i, nums in enumerate(test_cases, 1):\n",
    "    math_result = single_number_math(nums)\n",
    "    print(f\"Test {i}: {nums} → {math_result}\")"
   ]
  },
  {
   "cell_type": "code",
   "execution_count": null,
   "id": "b7caed90",
   "metadata": {},
   "outputs": [
    {
     "name": "stdout",
     "output_type": "stream",
     "text": [
      "🔍 Single Number:\n",
      "Test 1: [2, 2, 1] → [1]\n",
      "Test 2: [4, 1, 2, 1, 2] → [4]\n",
      "Test 3: [1] → [1]\n",
      "Test 4: [7, 3, 7, 3, 5] → [5]\n"
     ]
    }
   ],
   "source": [
    "def single_number_math(nums):\n",
    "    \"\"\"\n",
    "    Mathematical Approach\n",
    "    Time Complexity: O(n)\n",
    "    Space Complexity: O(n)\n",
    "    \"\"\"\n",
    "    dictionary = dict()\n",
    "    for i in nums:\n",
    "        dictionary[i]  = dictionary.get(i,0)+1\n",
    "    \n",
    "    a =[\n",
    "        x[0] for x in list(\n",
    "                            filter(lambda x: x[1]==1, dictionary.items())\n",
    "                        )\n",
    "    ]\n",
    "    return a\n",
    "\n",
    "# Test cases\n",
    "test_cases = [\n",
    "    [2, 2, 1],\n",
    "    [4, 1, 2, 1, 2],\n",
    "    [1],\n",
    "    [7, 3, 7, 3, 5]\n",
    "]\n",
    "\n",
    "print(\"🔍 Single Number:\")\n",
    "for i, nums in enumerate(test_cases, 1):\n",
    "    math_result = single_number_math(nums)\n",
    "    print(f\"Test {i}: {nums} → {math_result}\")"
   ]
  },
  {
   "cell_type": "markdown",
   "id": "6176f8a0",
   "metadata": {},
   "source": [
    "## 💡 Key Insights\n",
    "\n",
    "### XOR Properties (Key to Solution)\n",
    "- `a ^ a = 0` (any number XOR with itself equals 0)\n",
    "- `a ^ 0 = a` (any number XOR with 0 equals itself)\n",
    "- XOR is commutative and associative\n",
    "\n",
    "### Why XOR Works\n",
    "- All duplicate numbers cancel out (become 0)\n",
    "- Only the single number remains\n",
    "- Order doesn't matter due to XOR properties\n",
    "\n",
    "### Approach Comparison\n",
    "1. **XOR**: O(1) space, most efficient\n",
    "2. **Hash Set**: O(n) space, intuitive\n",
    "3. **Math**: O(n) space, clever mathematical insight\n",
    "\n",
    "## 🎯 Practice Tips\n",
    "1. XOR bit manipulation is powerful for \"find the different\" problems\n",
    "2. Learn XOR properties: self-canceling, identity with 0\n",
    "3. Mathematical approaches can be elegant alternatives\n",
    "4. Always consider bit manipulation for array problems with constraints"
   ]
  }
 ],
 "metadata": {
  "kernelspec": {
   "display_name": "Python 3",
   "language": "python",
   "name": "python3"
  },
  "language_info": {
   "codemirror_mode": {
    "name": "ipython",
    "version": 3
   },
   "file_extension": ".py",
   "mimetype": "text/x-python",
   "name": "python",
   "nbconvert_exporter": "python",
   "pygments_lexer": "ipython3",
   "version": "3.13.5"
  }
 },
 "nbformat": 4,
 "nbformat_minor": 5
}
