{
 "cells": [
  {
   "cell_type": "markdown",
   "id": "5fdeaf01",
   "metadata": {},
   "source": [
    "# 02 Counting Bits\n",
    "\n",
    "**Problem:** Count number of 1s in binary representation of 0 to n.\n",
    "\n",
    "**Example:** \n",
    "```\n",
    "n = 5\n",
    "0: 0 (0 ones)    →  result[0] = 0\n",
    "1: 1 (1 one)     →  result[1] = 1  \n",
    "2: 10 (1 one)    →  result[2] = 1\n",
    "3: 11 (2 ones)   →  result[3] = 2\n",
    "4: 100 (1 one)   →  result[4] = 1\n",
    "5: 101 (2 ones)  →  result[5] = 2\n",
    "```\n",
    "\n",
    "**Key Insight:** Use previously computed results to avoid recalculation.\n",
    "\n",
    "## 🔗 Navigation\n",
    "- [← Previous: Perfect Number](./01_perfect_number.ipynb)\n",
    "- [Next: Perfect Square →](./03_perfect_square.ipynb)"
   ]
  },
  {
   "cell_type": "code",
   "execution_count": null,
   "id": "c06a35e0",
   "metadata": {},
   "outputs": [],
   "source": [
    "def countBits(n):\n",
    "    \"\"\"\n",
    "    Example: n = 5\n",
    "    Uses dynamic programming with bit manipulation\n",
    "    \"\"\"\n",
    "    result = [0] * (n + 1)\n",
    "    \n",
    "    for i in range(1, n + 1):\n",
    "        # Key insight: count[i] = count[i//2] + (i%2)\n",
    "        # i//2 is i >> 1 (right shift)\n",
    "        # i%2 is i & 1 (check last bit)\n",
    "        result[i] = result[i >> 1] + (i & 1)\n",
    "    \n",
    "    return result\n",
    "\n",
    "# Alternative: Brian Kernighan's algorithm\n",
    "def countBits_kernighan(n):\n",
    "    result = [0] * (n + 1)\n",
    "    \n",
    "    for i in range(1, n + 1):\n",
    "        # i & (i-1) removes the rightmost set bit\n",
    "        result[i] = result[i & (i - 1)] + 1\n",
    "    \n",
    "    return result"
   ]
  },
  {
   "cell_type": "code",
   "execution_count": null,
   "id": "eaf3b012",
   "metadata": {},
   "outputs": [],
   "source": [
    "# Test the function\n",
    "n = 5\n",
    "print(f\"Counting bits from 0 to {n}:\")\n",
    "bit_counts = countBits(n)\n",
    "for i in range(n + 1):\n",
    "    print(f\"{i}: {bit_counts[i]} ones\")"
   ]
  }
 ],
 "metadata": {
  "language_info": {
   "name": "python"
  }
 },
 "nbformat": 4,
 "nbformat_minor": 5
}
