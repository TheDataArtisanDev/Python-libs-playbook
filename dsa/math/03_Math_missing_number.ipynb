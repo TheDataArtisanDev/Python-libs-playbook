{
 "cells": [
  {
   "cell_type": "markdown",
   "id": "307a8e5e",
   "metadata": {},
   "source": [
    "# Missing Number\n",
    "\n",
    "## Problem Statement\n",
    "Given an array `nums` containing `n` distinct numbers in the range `[0, n]`, return the only number in the range that is missing from the array.\n",
    "\n",
    "## Examples\n",
    "```\n",
    "Input: nums = [3,0,1]\n",
    "Output: 2\n",
    "Explanation: n = 3 since there are 3 numbers, so all numbers are in the range [0,3]. 2 is the missing number in the range since it does not appear in nums.\n",
    "\n",
    "Input: nums = [0,1]\n",
    "Output: 2\n",
    "\n",
    "Input: nums = [9,6,4,2,3,5,7,0,1]\n",
    "Output: 8\n",
    "```"
   ]
  },
  {
   "cell_type": "code",
   "execution_count": 1,
   "id": "94804fce",
   "metadata": {},
   "outputs": [],
   "source": [
    "def missing_number_sum(nums):\n",
    "    \"\"\"\n",
    "    Mathematical Sum Approach\n",
    "    Time Complexity: O(n)\n",
    "    Space Complexity: O(1)\n",
    "    \"\"\"\n",
    "    n = len(nums)\n",
    "    expected_sum = n * (n + 1) // 2\n",
    "    actual_sum = sum(nums)\n",
    "    return expected_sum - actual_sum"
   ]
  },
  {
   "cell_type": "code",
   "execution_count": null,
   "id": "c82ad03d",
   "metadata": {},
   "outputs": [],
   "source": [
    "# Test cases\n",
    "test_cases = [\n",
    "    [3, 0, 1],\n",
    "    [0, 1],\n",
    "    [9, 6, 4, 2, 3, 5, 7, 0, 1],\n",
    "    [1, 2]\n",
    "]\n",
    "\n",
    "print(\"🔍 Missing Number:\")\n",
    "for i, nums in enumerate(test_cases, 1):\n",
    "    sum_result = missing_number_sum(nums)\n",
    "    print(f\"Test {i}: {nums} → {sum_result}\")"
   ]
  },
  {
   "cell_type": "code",
   "execution_count": 2,
   "id": "6a7f935d",
   "metadata": {},
   "outputs": [],
   "source": [
    "def missing_number_xor(nums):\n",
    "    \"\"\"\n",
    "    XOR Bit Manipulation\n",
    "    Time Complexity: O(n)\n",
    "    Space Complexity: O(1)\n",
    "    \"\"\"\n",
    "    n = len(nums)\n",
    "    result = n  # Start with n\n",
    "    \n",
    "    for i in range(n):\n",
    "        result ^= i ^ nums[i]\n",
    "    \n",
    "    return result"
   ]
  },
  {
   "cell_type": "code",
   "execution_count": null,
   "id": "ea24e1c2",
   "metadata": {},
   "outputs": [
    {
     "name": "stdout",
     "output_type": "stream",
     "text": [
      "🔍 Missing Number:\n",
      "Test 1: [3, 0, 1] → 2\n",
      "Test 2: [0, 1] → 2\n",
      "Test 3: [9, 6, 4, 2, 3, 5, 7, 0, 1] → 8\n",
      "Test 4: [1, 2] → 0\n"
     ]
    }
   ],
   "source": [
    "# Test cases\n",
    "test_cases = [\n",
    "    [3, 0, 1],\n",
    "    [0, 1],\n",
    "    [9, 6, 4, 2, 3, 5, 7, 0, 1],\n",
    "    [1, 2]\n",
    "]\n",
    "\n",
    "print(\"🔍 Missing Number:\")\n",
    "for i, nums in enumerate(test_cases, 1):\n",
    "    sum_result = missing_number_xor(nums)\n",
    "    print(f\"Test {i}: {nums} → {sum_result}\")"
   ]
  },
  {
   "cell_type": "code",
   "execution_count": 3,
   "id": "fe339f68",
   "metadata": {},
   "outputs": [],
   "source": [
    "def missing_number_set(nums):\n",
    "    \"\"\"\n",
    "    Set Approach\n",
    "    Time Complexity: O(n)\n",
    "    Space Complexity: O(n)\n",
    "    \"\"\"\n",
    "    n = len(nums)\n",
    "    num_set = set(nums)\n",
    "    \n",
    "    for i in range(n + 1):\n",
    "        if i not in num_set:\n",
    "            return i"
   ]
  },
  {
   "cell_type": "code",
   "execution_count": 7,
   "id": "d44a7472",
   "metadata": {},
   "outputs": [
    {
     "name": "stdout",
     "output_type": "stream",
     "text": [
      "🔍 Missing Number:\n",
      "Test 1: [3, 0, 1] → 2\n",
      "Test 2: [0, 1] → 2\n",
      "Test 3: [9, 6, 4, 2, 3, 5, 7, 0, 1] → 8\n",
      "Test 4: [1, 2] → 0\n"
     ]
    }
   ],
   "source": [
    "# Test cases\n",
    "test_cases = [\n",
    "    [3, 0, 1],\n",
    "    [0, 1],\n",
    "    [9, 6, 4, 2, 3, 5, 7, 0, 1],\n",
    "    [1, 2]\n",
    "]\n",
    "\n",
    "print(\"🔍 Missing Number:\")\n",
    "for i, nums in enumerate(test_cases, 1):\n",
    "    sum_result = missing_number_set(nums)\n",
    "    print(f\"Test {i}: {nums} → {sum_result}\")"
   ]
  },
  {
   "cell_type": "code",
   "execution_count": 4,
   "id": "6a36abbd",
   "metadata": {},
   "outputs": [],
   "source": [
    "def missing_number_sort(nums):\n",
    "    \"\"\"\n",
    "    Sorting Approach\n",
    "    Time Complexity: O(n log n)\n",
    "    Space Complexity: O(1)\n",
    "    \"\"\"\n",
    "    nums.sort()\n",
    "    \n",
    "    # Check if 0 is missing\n",
    "    if nums[0] != 0:\n",
    "        return 0\n",
    "    \n",
    "    # Check if the missing number is in the middle\n",
    "    for i in range(1, len(nums)):\n",
    "        if nums[i] != nums[i-1] + 1:\n",
    "            return nums[i-1] + 1\n",
    "    \n",
    "    # Missing number is n\n",
    "    return len(nums)"
   ]
  },
  {
   "cell_type": "code",
   "execution_count": 5,
   "id": "0792a4ba",
   "metadata": {},
   "outputs": [
    {
     "name": "stdout",
     "output_type": "stream",
     "text": [
      "🔍 Missing Number:\n",
      "Test 1: [3, 0, 1] → 2\n",
      "Test 2: [0, 1] → 2\n",
      "Test 3: [9, 6, 4, 2, 3, 5, 7, 0, 1] → 8\n",
      "Test 4: [1, 2] → 0\n"
     ]
    }
   ],
   "source": [
    "# Test cases\n",
    "test_cases = [\n",
    "    [3, 0, 1],\n",
    "    [0, 1],\n",
    "    [9, 6, 4, 2, 3, 5, 7, 0, 1],\n",
    "    [1, 2]\n",
    "]\n",
    "\n",
    "print(\"🔍 Missing Number:\")\n",
    "for i, nums in enumerate(test_cases, 1):\n",
    "    sum_result = missing_number_sum(nums)\n",
    "    xor_result = missing_number_xor(nums)\n",
    "    set_result = missing_number_set(nums)\n",
    "    sort_result = missing_number_sort(nums.copy())\n",
    "    print(f\"Test {i}: {nums} → {sum_result}\")"
   ]
  },
  {
   "cell_type": "markdown",
   "id": "f90d324a",
   "metadata": {},
   "source": [
    "## 💡 Key Insights\n",
    "\n",
    "### Four Different Approaches\n",
    "1. **Mathematical Sum**: Use arithmetic series formula\n",
    "2. **XOR Manipulation**: Cancel out paired numbers\n",
    "3. **Set Lookup**: Check existence in O(1) time\n",
    "4. **Sorting**: Sort then find gap\n",
    "\n",
    "### Mathematical Formula\n",
    "- Sum of 0 to n: `n * (n + 1) / 2`\n",
    "- Missing number = Expected sum - Actual sum\n",
    "\n",
    "### XOR Technique\n",
    "- XOR all indices with all array values\n",
    "- Duplicate pairs cancel out, missing number remains\n",
    "\n",
    "## 🎯 Practice Tips\n",
    "1. Mathematical approach often simplest for consecutive sequences\n",
    "2. XOR useful when avoiding arithmetic overflow concerns\n",
    "3. Consider time-space tradeoffs between approaches\n",
    "4. Think about integer overflow in sum approach for large n"
   ]
  }
 ],
 "metadata": {
  "kernelspec": {
   "display_name": "Python 3",
   "language": "python",
   "name": "python3"
  },
  "language_info": {
   "codemirror_mode": {
    "name": "ipython",
    "version": 3
   },
   "file_extension": ".py",
   "mimetype": "text/x-python",
   "name": "python",
   "nbconvert_exporter": "python",
   "pygments_lexer": "ipython3",
   "version": "3.13.5"
  }
 },
 "nbformat": 4,
 "nbformat_minor": 5
}
