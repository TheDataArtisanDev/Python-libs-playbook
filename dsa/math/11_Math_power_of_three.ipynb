{
 "cells": [
  {
   "cell_type": "markdown",
   "id": "e8e51973",
   "metadata": {},
   "source": [
    "# 04 Power of Three\n",
    "\n",
    "**Problem:** Check if number is power of 3.\n",
    "\n",
    "**Powers of 3:** 1, 3, 9, 27, 81, 243, ...\n",
    "\n",
    "**Example:** \n",
    "```\n",
    "27 = 3³ → True, 45 → False\n",
    "```\n",
    "\n",
    "## 🔗 Navigation\n",
    "- [← Previous: Perfect Square](./03_perfect_square.ipynb)\n",
    "- [← Back to Index](../challenges.ipynb)"
   ]
  },
  {
   "cell_type": "code",
   "execution_count": null,
   "id": "85aaea2a",
   "metadata": {},
   "outputs": [],
   "source": [
    "def isPowerOfThree(n):\n",
    "    \"\"\"\n",
    "    Powers of 3: 1, 3, 9, 27, 81, 243, ...\n",
    "    Example: 27 = 3³ → True, 45 → False\n",
    "    \"\"\"\n",
    "    if n <= 0:\n",
    "        return False\n",
    "    \n",
    "    while n % 3 == 0:\n",
    "        n //= 3\n",
    "    \n",
    "    return n == 1"
   ]
  },
  {
   "cell_type": "code",
   "execution_count": null,
   "id": "49a7caa7",
   "metadata": {},
   "outputs": [],
   "source": [
    "# Test the function\n",
    "test_numbers = [1, 3, 9, 27, 28, 81, 243, 244]\n",
    "\n",
    "for num in test_numbers:\n",
    "    result = isPowerOfThree(num)\n",
    "    print(f\"{num} is {'a' if result else 'not a'} power of three\")"
   ]
  }
 ],
 "metadata": {
  "language_info": {
   "name": "python"
  }
 },
 "nbformat": 4,
 "nbformat_minor": 5
}
