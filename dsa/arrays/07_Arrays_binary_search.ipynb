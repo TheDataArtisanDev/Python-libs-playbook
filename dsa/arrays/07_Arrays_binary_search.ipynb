{
 "cells": [
  {
   "cell_type": "markdown",
   "id": "c82e419f",
   "metadata": {},
   "source": [
    "# Binary Search\n",
    "\n",
    "## Problem Statement\n",
    "Given an array of integers `nums` which is sorted in ascending order, and an integer `target`, write a function to search `target` in `nums`. If `target` exists, then return its index. Otherwise, return `-1`.\n",
    "\n",
    "You must write an algorithm with `O(log n)` runtime complexity.\n",
    "\n",
    "## Examples\n",
    "```\n",
    "Input: nums = [-1,0,3,5,9,12], target = 9\n",
    "Output: 4\n",
    "Explanation: 9 exists in nums and its index is 4\n",
    "\n",
    "Input: nums = [-1,0,3,5,9,12], target = 2\n",
    "Output: -1\n",
    "Explanation: 2 does not exist in nums so return -1\n",
    "```"
   ]
  },
  {
   "cell_type": "code",
   "execution_count": 1,
   "id": "263ba908",
   "metadata": {},
   "outputs": [],
   "source": [
    "def binary_search_iterative(nums, target):\n",
    "    \"\"\"\n",
    "    Iterative Binary Search\n",
    "    Time Complexity: O(log n)\n",
    "    Space Complexity: O(1)\n",
    "    \"\"\"\n",
    "    left, right = 0, len(nums) - 1\n",
    "    \n",
    "    while left <= right:\n",
    "        mid = left + (right - left) // 2  # Avoid overflow\n",
    "        \n",
    "        if nums[mid] == target:\n",
    "            return mid\n",
    "        elif nums[mid] < target:\n",
    "            left = mid + 1\n",
    "        else:\n",
    "            right = mid - 1\n",
    "    \n",
    "    return -1"
   ]
  },
  {
   "cell_type": "code",
   "execution_count": 4,
   "id": "80df96f1",
   "metadata": {},
   "outputs": [
    {
     "name": "stdout",
     "output_type": "stream",
     "text": [
      "🔍 Binary Search:\n",
      "Test 1: nums=[-1, 0, 3, 5, 9, 12], target=9 → 4\n",
      "Test 2: nums=[-1, 0, 3, 5, 9, 12], target=2 → -1\n",
      "Test 3: nums=[5], target=5 → 0\n",
      "Test 4: nums=[1, 3, 5, 7, 9], target=1 → 0\n",
      "Test 5: nums=[1, 3, 5, 7, 9], target=9 → 4\n",
      "Test 6: nums=[1, 3, 5, 7, 9], target=4 → -1\n"
     ]
    }
   ],
   "source": [
    "# Test cases\n",
    "test_cases = [\n",
    "    ([-1, 0, 3, 5, 9, 12], 9),\n",
    "    ([-1, 0, 3, 5, 9, 12], 2),\n",
    "    ([5], 5),\n",
    "    ([1, 3, 5, 7, 9], 1),\n",
    "    ([1, 3, 5, 7, 9], 9),\n",
    "    ([1, 3, 5, 7, 9], 4)\n",
    "]\n",
    "\n",
    "print(\"🔍 Binary Search:\")\n",
    "for i, (nums, target) in enumerate(test_cases, 1):\n",
    "    iterative_result = binary_search_iterative(nums, target)\n",
    "    print(f\"Test {i}: nums={nums}, target={target} → {iterative_result}\")"
   ]
  },
  {
   "cell_type": "code",
   "execution_count": 2,
   "id": "6fceacae",
   "metadata": {},
   "outputs": [],
   "source": [
    "def binary_search_recursive(nums, target):\n",
    "    \"\"\"\n",
    "    Recursive Binary Search\n",
    "    Time Complexity: O(log n)\n",
    "    Space Complexity: O(log n) - due to recursion stack\n",
    "    \"\"\"\n",
    "    def search(left, right):\n",
    "        if left > right:\n",
    "            return -1\n",
    "        \n",
    "        mid = left + (right - left) // 2\n",
    "        \n",
    "        if nums[mid] == target:\n",
    "            return mid\n",
    "        elif nums[mid] < target:\n",
    "            return search(mid + 1, right)\n",
    "        else:\n",
    "            return search(left, mid - 1)\n",
    "    \n",
    "    return search(0, len(nums) - 1)"
   ]
  },
  {
   "cell_type": "code",
   "execution_count": 6,
   "id": "00be26ac",
   "metadata": {},
   "outputs": [
    {
     "name": "stdout",
     "output_type": "stream",
     "text": [
      "🔍 Binary Search:\n",
      "Test 1: nums=[-1, 0, 3, 5, 9, 12], target=9 → 4\n",
      "Test 2: nums=[-1, 0, 3, 5, 9, 12], target=2 → -1\n",
      "Test 3: nums=[5], target=5 → 0\n",
      "Test 4: nums=[1, 3, 5, 7, 9], target=1 → 0\n",
      "Test 5: nums=[1, 3, 5, 7, 9], target=9 → 4\n",
      "Test 6: nums=[1, 3, 5, 7, 9], target=4 → -1\n"
     ]
    }
   ],
   "source": [
    "# Test cases\n",
    "test_cases = [\n",
    "    ([-1, 0, 3, 5, 9, 12], 9),\n",
    "    ([-1, 0, 3, 5, 9, 12], 2),\n",
    "    ([5], 5),\n",
    "    ([1, 3, 5, 7, 9], 1),\n",
    "    ([1, 3, 5, 7, 9], 9),\n",
    "    ([1, 3, 5, 7, 9], 4)\n",
    "]\n",
    "\n",
    "print(\"🔍 Binary Search:\")\n",
    "for i, (nums, target) in enumerate(test_cases, 1):\n",
    "    iterative_result = binary_search_recursive(nums, target)\n",
    "    print(f\"Test {i}: nums={nums}, target={target} → {iterative_result}\")"
   ]
  },
  {
   "cell_type": "code",
   "execution_count": 3,
   "id": "3f2758d4",
   "metadata": {},
   "outputs": [],
   "source": [
    "def binary_search_builtin(nums, target):\n",
    "    \"\"\"\n",
    "    Using Python's bisect module\n",
    "    Time Complexity: O(log n)\n",
    "    Space Complexity: O(1)\n",
    "    \"\"\"\n",
    "    import bisect\n",
    "    index = bisect.bisect_left(nums, target)\n",
    "    return index if index < len(nums) and nums[index] == target else -1"
   ]
  },
  {
   "cell_type": "code",
   "execution_count": 7,
   "id": "3e409c48",
   "metadata": {},
   "outputs": [
    {
     "name": "stdout",
     "output_type": "stream",
     "text": [
      "🔍 Binary Search:\n",
      "Test 1: nums=[-1, 0, 3, 5, 9, 12], target=9 → -1\n",
      "Test 2: nums=[-1, 0, 3, 5, 9, 12], target=2 → -1\n",
      "Test 3: nums=[5], target=5 → -1\n",
      "Test 4: nums=[1, 3, 5, 7, 9], target=1 → -1\n",
      "Test 5: nums=[1, 3, 5, 7, 9], target=9 → -1\n",
      "Test 6: nums=[1, 3, 5, 7, 9], target=4 → -1\n"
     ]
    }
   ],
   "source": [
    "# Test cases\n",
    "test_cases = [\n",
    "    ([-1, 0, 3, 5, 9, 12], 9),\n",
    "    ([-1, 0, 3, 5, 9, 12], 2),\n",
    "    ([5], 5),\n",
    "    ([1, 3, 5, 7, 9], 1),\n",
    "    ([1, 3, 5, 7, 9], 9),\n",
    "    ([1, 3, 5, 7, 9], 4)\n",
    "]\n",
    "\n",
    "print(\"🔍 Binary Search:\")\n",
    "for i, (nums, target) in enumerate(test_cases, 1):\n",
    "    builtin_result = binary_search_builtin(nums, target)\n",
    "    print(f\"Test {i}: nums={nums}, target={target} → {iterative_result}\")"
   ]
  },
  {
   "cell_type": "markdown",
   "id": "06203de0",
   "metadata": {},
   "source": [
    "## 💡 Key Insights\n",
    "\n",
    "### Binary Search Algorithm\n",
    "1. **Divide**: Split search space in half\n",
    "2. **Conquer**: Compare middle element with target\n",
    "3. **Eliminate**: Discard half of remaining elements\n",
    "4. **Repeat**: Until found or search space empty\n",
    "\n",
    "### Key Implementation Details\n",
    "- Use `left + (right - left) // 2` to avoid integer overflow\n",
    "- Condition `left <= right` (inclusive bounds)\n",
    "- Update bounds: `left = mid + 1` or `right = mid - 1`\n",
    "\n",
    "### Complexity Analysis\n",
    "- **Time**: O(log n) - halve search space each iteration\n",
    "- **Space**: O(1) iterative, O(log n) recursive\n",
    "\n",
    "## 🎯 Practice Tips\n",
    "1. Binary search only works on sorted arrays\n",
    "2. Watch out for infinite loops with incorrect bound updates\n",
    "3. Consider edge cases: empty array, single element, target not found\n",
    "4. Master this pattern - it's used in many advanced problems"
   ]
  }
 ],
 "metadata": {
  "kernelspec": {
   "display_name": "Python 3",
   "language": "python",
   "name": "python3"
  },
  "language_info": {
   "codemirror_mode": {
    "name": "ipython",
    "version": 3
   },
   "file_extension": ".py",
   "mimetype": "text/x-python",
   "name": "python",
   "nbconvert_exporter": "python",
   "pygments_lexer": "ipython3",
   "version": "3.13.5"
  }
 },
 "nbformat": 4,
 "nbformat_minor": 5
}
