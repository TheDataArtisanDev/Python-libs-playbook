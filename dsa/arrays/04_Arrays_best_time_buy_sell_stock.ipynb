{
 "cells": [
  {
   "cell_type": "markdown",
   "id": "71360840",
   "metadata": {},
   "source": [
    "# Best Time to Buy and Sell Stock\n",
    "\n",
    "## Problem Statement\n",
    "You are given an array `prices` where `prices[i]` is the price of a given stock on the ith day.\n",
    "\n",
    "You want to maximize your profit by choosing a single day to buy one stock and choosing a different day in the future to sell that stock.\n",
    "\n",
    "Return the maximum profit you can achieve from this transaction. If you cannot achieve any profit, return 0.\n",
    "\n",
    "## Examples\n",
    "```\n",
    "Input: prices = [7,1,5,3,6,4]\n",
    "Output: 5\n",
    "Explanation: Buy on day 2 (price = 1) and sell on day 5 (price = 6), profit = 6-1 = 5.\n",
    "\n",
    "Input: prices = [7,6,4,3,1]\n",
    "Output: 0\n",
    "Explanation: No profit can be made.\n",
    "```"
   ]
  },
  {
   "cell_type": "code",
   "execution_count": 1,
   "id": "59420439",
   "metadata": {},
   "outputs": [],
   "source": [
    "def max_profit_one_pass(prices):\n",
    "    \"\"\"\n",
    "    One Pass Solution\n",
    "    Time Complexity: O(n)\n",
    "    Space Complexity: O(1)\n",
    "    \"\"\"\n",
    "    if not prices:\n",
    "        return 0\n",
    "    \n",
    "    min_price = prices[0]\n",
    "    max_profit = 0\n",
    "    \n",
    "    for price in prices[1:]:\n",
    "        # Update minimum price seen so far\n",
    "        min_price = min(min_price, price)\n",
    "        # Calculate profit if we sell at current price\n",
    "        max_profit = max(max_profit, price - min_price)\n",
    "    \n",
    "    return max_profit"
   ]
  },
  {
   "cell_type": "code",
   "execution_count": 2,
   "id": "4b1e928d",
   "metadata": {},
   "outputs": [
    {
     "name": "stdout",
     "output_type": "stream",
     "text": [
      "🔍 Best Time to Buy and Sell Stock:\n",
      "Test 1: [7, 1, 5, 3, 6, 4]\n",
      "  One Pass: 5\n",
      "Test 2: [7, 6, 4, 3, 1]\n",
      "  One Pass: 0\n",
      "Test 3: [1, 2, 3, 4, 5]\n",
      "  One Pass: 4\n",
      "Test 4: [5, 4, 3, 2, 1]\n",
      "  One Pass: 0\n"
     ]
    }
   ],
   "source": [
    "# Test cases\n",
    "test_cases = [\n",
    "    [7, 1, 5, 3, 6, 4],\n",
    "    [7, 6, 4, 3, 1],\n",
    "    [1, 2, 3, 4, 5],\n",
    "    [5, 4, 3, 2, 1]\n",
    "]\n",
    "\n",
    "print(\"🔍 Best Time to Buy and Sell Stock:\")\n",
    "for i, prices in enumerate(test_cases, 1):\n",
    "    one_pass_result = max_profit_one_pass(prices)\n",
    "    print(f\"Test {i}: {prices}\")\n",
    "    print(f\"  One Pass: {one_pass_result}\")"
   ]
  },
  {
   "cell_type": "code",
   "execution_count": 4,
   "id": "c2fd6d1c",
   "metadata": {},
   "outputs": [
    {
     "name": "stdout",
     "output_type": "stream",
     "text": [
      "🔍 Best Time to Buy and Sell Stock:\n",
      "Test 1: [7, 1, 5, 3, 6, 4]\n",
      "  Brute Force: 5\n",
      "Test 2: [7, 6, 4, 3, 1]\n",
      "  Brute Force: 0\n",
      "Test 3: [1, 2, 3, 4, 5]\n",
      "  Brute Force: 4\n",
      "Test 4: [5, 4, 3, 2, 1]\n",
      "  Brute Force: 0\n"
     ]
    }
   ],
   "source": [
    "\n",
    "\n",
    "def max_profit_brute_force(prices):\n",
    "    \"\"\"\n",
    "    Brute Force Solution\n",
    "    Time Complexity: O(n²)\n",
    "    Space Complexity: O(1)\n",
    "    \"\"\"\n",
    "    max_profit = 0\n",
    "    \n",
    "    for i in range(len(prices)):\n",
    "        for j in range(i + 1, len(prices)):\n",
    "            profit = prices[j] - prices[i]\n",
    "            max_profit = max(max_profit, profit)\n",
    "    \n",
    "    return max_profit\n",
    "\n",
    "# Test cases\n",
    "test_cases = [\n",
    "    [7, 1, 5, 3, 6, 4],\n",
    "    [7, 6, 4, 3, 1],\n",
    "    [1, 2, 3, 4, 5],\n",
    "    [5, 4, 3, 2, 1]\n",
    "]\n",
    "\n",
    "print(\"🔍 Best Time to Buy and Sell Stock:\")\n",
    "for i, prices in enumerate(test_cases, 1):\n",
    "    brute_result = max_profit_brute_force(prices)\n",
    "    print(f\"Test {i}: {prices}\")\n",
    "    print(f\"  Brute Force: {brute_result}\")"
   ]
  },
  {
   "cell_type": "markdown",
   "id": "1592aa1e",
   "metadata": {},
   "source": [
    "## 💡 Key Insights\n",
    "\n",
    "### One Pass Algorithm\n",
    "- Keep track of minimum price seen so far\n",
    "- For each price, calculate potential profit\n",
    "- Update maximum profit if current profit is better\n",
    "\n",
    "### Key Observation\n",
    "- We need to buy before we sell\n",
    "- Always want to buy at lowest price before current day\n",
    "- Maximum profit = current price - minimum price so far\n",
    "\n",
    "## 🎯 Practice Tips\n",
    "1. Similar to maximum subarray problem pattern\n",
    "2. Track running minimum/maximum patterns are common\n",
    "3. Single pass through array for O(n) solutions\n",
    "4. Can be extended to multiple transactions"
   ]
  }
 ],
 "metadata": {
  "kernelspec": {
   "display_name": "Python 3",
   "language": "python",
   "name": "python3"
  },
  "language_info": {
   "codemirror_mode": {
    "name": "ipython",
    "version": 3
   },
   "file_extension": ".py",
   "mimetype": "text/x-python",
   "name": "python",
   "nbconvert_exporter": "python",
   "pygments_lexer": "ipython3",
   "version": "3.13.5"
  }
 },
 "nbformat": 4,
 "nbformat_minor": 5
}
