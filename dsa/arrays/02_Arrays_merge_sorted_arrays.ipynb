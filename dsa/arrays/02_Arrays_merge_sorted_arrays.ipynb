{
 "cells": [
  {
   "cell_type": "markdown",
   "id": "d9c28e49",
   "metadata": {},
   "source": [
    "# Merge Two Sorted Arrays - Two Pointers\n",
    "\n",
    "## Problem Statement\n",
    "You are given two integer arrays `nums1` and `nums2`, sorted in non-decreasing order, and two integers `m` and `n`, representing the number of elements in `nums1` and `nums2` respectively.\n",
    "\n",
    "Merge `nums2` into `nums1` as one sorted array.\n",
    "\n",
    "## Examples\n",
    "```\n",
    "Input: nums1 = [1,2,3,0,0,0], m = 3, nums2 = [2,5,6], n = 3\n",
    "Output: [1,2,2,3,5,6]\n",
    "\n",
    "Input: nums1 = [1], m = 1, nums2 = [], n = 0\n",
    "Output: [1]\n",
    "\n",
    "Input: nums1 = [0], m = 0, nums2 = [1], n = 1\n",
    "Output: [1]\n",
    "```"
   ]
  },
  {
   "cell_type": "code",
   "execution_count": 1,
   "id": "d024bd86",
   "metadata": {},
   "outputs": [
    {
     "name": "stdout",
     "output_type": "stream",
     "text": [
      "🔍 Merge Sorted Arrays:\n",
      "Test 1: [1, 2, 3] + [2, 5, 6] → [1, 2, 2, 3, 5, 6]\n",
      "Test 2: [1] + [] → [1]\n",
      "Test 3: [] + [1] → [1]\n"
     ]
    }
   ],
   "source": [
    "def merge_sorted_arrays(nums1, m, nums2, n):\n",
    "    \"\"\"\n",
    "    Optimal solution - merge from the end\n",
    "    Time Complexity: O(m + n)\n",
    "    Space Complexity: O(1)\n",
    "    \"\"\"\n",
    "    i, j, k = m - 1, n - 1, m + n - 1\n",
    "    \n",
    "    while i >= 0 and j >= 0:\n",
    "        if nums1[i] > nums2[j]:\n",
    "            nums1[k] = nums1[i]\n",
    "            i -= 1\n",
    "        else:\n",
    "            nums1[k] = nums2[j]\n",
    "            j -= 1\n",
    "        k -= 1\n",
    "    \n",
    "    while j >= 0:\n",
    "        nums1[k] = nums2[j]\n",
    "        j -= 1\n",
    "        k -= 1\n",
    "\n",
    "# Test cases\n",
    "test_cases = [\n",
    "    ([1, 2, 3, 0, 0, 0], 3, [2, 5, 6], 3),\n",
    "    ([1], 1, [], 0),\n",
    "    ([0], 0, [1], 1)\n",
    "]\n",
    "\n",
    "print(\"🔍 Merge Sorted Arrays:\")\n",
    "for i, (nums1, m, nums2, n) in enumerate(test_cases, 1):\n",
    "    nums1_copy = nums1.copy()\n",
    "    merge_sorted_arrays(nums1_copy, m, nums2, n)\n",
    "    print(f\"Test {i}: {nums1[:m]} + {nums2} → {nums1_copy}\")"
   ]
  },
  {
   "cell_type": "code",
   "execution_count": 2,
   "id": "11bdbe3b",
   "metadata": {},
   "outputs": [
    {
     "name": "stdout",
     "output_type": "stream",
     "text": [
      "🔍 Merge Sorted Arrays:\n",
      "Valid elements merged: [1, 2, 3, 2, 5, 6]\n",
      "Test 1: [1, 2, 3] + [2, 5, 6] → [1, 2, 2, 3, 5, 6]\n",
      "Valid elements merged: [1]\n",
      "Test 2: [1] + [] → [1]\n",
      "Valid elements merged: [1]\n",
      "Test 3: [] + [1] → [1]\n"
     ]
    }
   ],
   "source": [
    "def merge_sorted_arrays(nums1, m, nums2, n):\n",
    "    # Only take the first m elements from nums1 and first n elements from nums2\n",
    "    valid_nums1 = nums1[:m]\n",
    "    valid_nums2 = nums2[:n]\n",
    "    \n",
    "    # Combine valid elements\n",
    "    merged = valid_nums1 + valid_nums2\n",
    "    print(f\"Valid elements merged: {merged}\")\n",
    "    \n",
    "    # Sort using your bubble sort\n",
    "    for i in range(len(merged)):\n",
    "        for j in range(i + 1, len(merged)):\n",
    "            if merged[i] > merged[j]:\n",
    "                merged[i], merged[j] = merged[j], merged[i]\n",
    "    \n",
    "    # Copy back to nums1 (in-place modification)\n",
    "    for i in range(len(merged)):\n",
    "        nums1[i] = merged[i]\n",
    "\n",
    "# Test cases\n",
    "test_cases = [\n",
    "    ([1, 2, 3, 0, 0, 0], 3, [2, 5, 6], 3),\n",
    "    ([1], 1, [], 0),\n",
    "    ([0], 0, [1], 1)\n",
    "]   \n",
    "\n",
    "print(\"🔍 Merge Sorted Arrays:\")\n",
    "for i, (nums1, m, nums2, n) in enumerate(test_cases, 1):\n",
    "    nums1_copy = nums1.copy()\n",
    "    merge_sorted_arrays(nums1_copy, m, nums2, n)\n",
    "    print(f\"Test {i}: {nums1[:m]} + {nums2} → {nums1_copy}\")"
   ]
  },
  {
   "cell_type": "markdown",
   "id": "bf2a4019",
   "metadata": {},
   "source": [
    "## 💡 Key Insights\n",
    "\n",
    "### Why Merge from the End?\n",
    "- `nums1` has extra space at the end\n",
    "- Largest elements go to the end naturally\n",
    "- No risk of overwriting unprocessed elements\n",
    "- Achieves O(1) space complexity\n",
    "\n",
    "## 🎯 Practice Tips\n",
    "1. Two-pointer technique is common in sorted array problems\n",
    "2. Consider merging from the end when you have extra space\n",
    "3. Always handle remaining elements after main loop"
   ]
  }
 ],
 "metadata": {
  "kernelspec": {
   "display_name": "Python 3",
   "language": "python",
   "name": "python3"
  },
  "language_info": {
   "codemirror_mode": {
    "name": "ipython",
    "version": 3
   },
   "file_extension": ".py",
   "mimetype": "text/x-python",
   "name": "python",
   "nbconvert_exporter": "python",
   "pygments_lexer": "ipython3",
   "version": "3.13.5"
  }
 },
 "nbformat": 4,
 "nbformat_minor": 5
}
