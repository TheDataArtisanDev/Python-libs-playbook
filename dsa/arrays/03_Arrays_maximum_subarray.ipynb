{
 "cells": [
  {
   "cell_type": "markdown",
   "id": "b981f9c4",
   "metadata": {},
   "source": [
    "# Maximum Subarray - Kadane's Algorithm\n",
    "\n",
    "## Problem Statement\n",
    "Given an integer array `nums`, find the contiguous subarray (containing at least one number) which has the largest sum and return its sum.\n",
    "\n",
    "## Examples\n",
    "```\n",
    "Input: nums = [-2,1,-3,4,-1,2,1,-5,4]\n",
    "Output: 6\n",
    "Explanation: [4,-1,2,1] has the largest sum = 6.\n",
    "\n",
    "Input: nums = [1]\n",
    "Output: 1\n",
    "\n",
    "Input: nums = [5,4,-1,7,8]\n",
    "Output: 23\n",
    "```"
   ]
  },
  {
   "cell_type": "code",
   "execution_count": 1,
   "id": "a24273df",
   "metadata": {},
   "outputs": [],
   "source": [
    "def max_subarray_kadane(nums):\n",
    "    \"\"\"\n",
    "    Kadane's Algorithm\n",
    "    Time Complexity: O(n)\n",
    "    Space Complexity: O(1)\n",
    "    \"\"\"\n",
    "    max_sum = nums[0]\n",
    "    current_sum = nums[0]\n",
    "    \n",
    "    for i in range(1, len(nums)):\n",
    "        current_sum = max(nums[i], current_sum + nums[i])\n",
    "        max_sum = max(max_sum, current_sum)\n",
    "    \n",
    "    return max_sum"
   ]
  },
  {
   "cell_type": "code",
   "execution_count": 2,
   "id": "dca36b03",
   "metadata": {},
   "outputs": [
    {
     "name": "stdout",
     "output_type": "stream",
     "text": [
      "🔍 Maximum Subarray:\n",
      "Test 1: [-2, 1, -3, 4, -1, 2, 1, -5, 4]\n",
      "  Kadane: 6\n",
      "Test 2: [1]\n",
      "  Kadane: 1\n",
      "Test 3: [5, 4, -1, 7, 8]\n",
      "  Kadane: 23\n",
      "Test 4: [-1, -2, -3, -4]\n",
      "  Kadane: -1\n"
     ]
    }
   ],
   "source": [
    "# Test cases\n",
    "test_cases = [\n",
    "    [-2, 1, -3, 4, -1, 2, 1, -5, 4],\n",
    "    [1],\n",
    "    [5, 4, -1, 7, 8],\n",
    "    [-1, -2, -3, -4]\n",
    "]\n",
    "\n",
    "print(\"🔍 Maximum Subarray:\")\n",
    "for i, nums in enumerate(test_cases, 1):\n",
    "    kadane_result = max_subarray_kadane(nums)\n",
    "    print(f\"Test {i}: {nums}\")\n",
    "    print(f\"  Kadane: {kadane_result}\")"
   ]
  },
  {
   "cell_type": "code",
   "execution_count": null,
   "id": "2e2611bd",
   "metadata": {},
   "outputs": [],
   "source": [
    "def max_subarray_brute_force(nums):\n",
    "    \"\"\"\n",
    "    Brute Force Solution\n",
    "    Time Complexity: O(n²)\n",
    "    Space Complexity: O(1)\n",
    "    \"\"\"\n",
    "    max_sum = float('-inf')\n",
    "    \n",
    "    for i in range(0, len(nums)):\n",
    "        current_sum = 0\n",
    "        for j in range(i, len(nums)):\n",
    "            current_sum += nums[j]\n",
    "            max_sum = max(max_sum, current_sum)\n",
    "    \n",
    "    return max_sum"
   ]
  },
  {
   "cell_type": "code",
   "execution_count": 7,
   "id": "11ca81a0",
   "metadata": {},
   "outputs": [
    {
     "name": "stdout",
     "output_type": "stream",
     "text": [
      "🔍 Maximum Subarray:\n",
      "Test 1: [-2, 1, -3, 4, -1, 2, 1, -5, 4]\n",
      " Brute Force: 6\n",
      "Test 2: [1]\n",
      " Brute Force: 1\n",
      "Test 3: [5, 4, -1, 7, 8]\n",
      " Brute Force: 23\n",
      "Test 4: [-1, -2, -3, -4]\n",
      " Brute Force: -1\n"
     ]
    }
   ],
   "source": [
    "# Test cases\n",
    "test_cases = [\n",
    "    [-2, 1, -3, 4, -1, 2, 1, -5, 4],\n",
    "    [1],\n",
    "    [5, 4, -1, 7, 8],\n",
    "    [-1, -2, -3, -4]\n",
    "]\n",
    "\n",
    "print(\"🔍 Maximum Subarray:\")\n",
    "for i, nums in enumerate(test_cases, 1):\n",
    "    brute_result = max_subarray_brute_force(nums)\n",
    "    print(f\"Test {i}: {nums}\")\n",
    "    print(f\" Brute Force: {brute_result}\")"
   ]
  },
  {
   "cell_type": "markdown",
   "id": "bd43c58f",
   "metadata": {},
   "source": [
    "## 💡 Key Insights\n",
    "\n",
    "### Kadane's Algorithm Logic\n",
    "- At each position, decide: extend current subarray or start new one\n",
    "- `current_sum = max(nums[i], current_sum + nums[i])`\n",
    "- Keep track of maximum sum seen so far\n",
    "\n",
    "### Dynamic Programming Intuition\n",
    "- **State**: Maximum sum ending at current position\n",
    "- **Transition**: Include current element or start fresh\n",
    "- **Result**: Maximum of all states\n",
    "\n",
    "## 🎯 Practice Tips\n",
    "1. Kadane's algorithm is classic for subarray problems\n",
    "2. Handle all negative numbers edge case\n",
    "3. Can be extended to find actual subarray indices\n",
    "4. Pattern applies to many optimization problems"
   ]
  }
 ],
 "metadata": {
  "kernelspec": {
   "display_name": "Python 3",
   "language": "python",
   "name": "python3"
  },
  "language_info": {
   "codemirror_mode": {
    "name": "ipython",
    "version": 3
   },
   "file_extension": ".py",
   "mimetype": "text/x-python",
   "name": "python",
   "nbconvert_exporter": "python",
   "pygments_lexer": "ipython3",
   "version": "3.13.5"
  }
 },
 "nbformat": 4,
 "nbformat_minor": 5
}
