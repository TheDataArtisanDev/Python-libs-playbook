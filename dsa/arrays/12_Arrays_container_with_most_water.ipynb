{
 "cells": [
  {
   "cell_type": "markdown",
   "id": "f55a8aa8",
   "metadata": {},
   "source": [
    "# Arrays - Container With Most Water\n",
    "\n",
    "## Problem Statement\n",
    "You are given an integer array `height` of length `n`. There are `n` vertical lines drawn such that the two endpoints of the `ith` line are `(i, 0)` and `(i, height[i])`.\n",
    "\n",
    "Find two lines that together with the x-axis form a container, such that the container contains the most water.\n",
    "\n",
    "Return the maximum amount of water a container can store.\n",
    "\n",
    "## Examples\n",
    "```\n",
    "Input: height = [1,8,6,2,5,4,8,3,7]\n",
    "Output: 49\n",
    "\n",
    "Input: height = [1,1]\n",
    "Output: 1\n",
    "```"
   ]
  },
  {
   "cell_type": "code",
   "execution_count": 3,
   "id": "fc53ead8",
   "metadata": {},
   "outputs": [],
   "source": [
    "def max_area_two_pointers(height):\n",
    "    \"\"\"\n",
    "    Two Pointers Approach\n",
    "    Time Complexity: O(n)\n",
    "    Space Complexity: O(1)\n",
    "    \"\"\"\n",
    "    left, right = 0, len(height) - 1\n",
    "    max_water = 0\n",
    "    \n",
    "    while left < right:\n",
    "       \n",
    "        # Calculate current area\n",
    "        width = right - left\n",
    "\n",
    "\n",
    "        current_height = min(height[left], height[right])\n",
    "        \n",
    "        current_area = width * current_height\n",
    "        \n",
    "        max_water = max(max_water, current_area)\n",
    "        \n",
    "        # Move pointer with smaller height\n",
    "        if height[left] < height[right]:\n",
    "            left += 1\n",
    "        else:\n",
    "            right -= 1\n",
    "    \n",
    "    return max_water"
   ]
  },
  {
   "cell_type": "code",
   "execution_count": 5,
   "id": "89608d8c",
   "metadata": {},
   "outputs": [
    {
     "name": "stdout",
     "output_type": "stream",
     "text": [
      "🔍 Container With Most Water:\n",
      "Test 1: [1, 8, 6, 2, 5, 4, 8, 3, 7] → 49\n",
      "Test 2: [1, 1] → 1\n",
      "Test 3: [1, 2, 1] → 2\n",
      "Test 4: [2, 1] → 1\n",
      "Test 5: [1, 5, 4, 3] → 6\n"
     ]
    }
   ],
   "source": [
    "# Test cases\n",
    "test_cases = [\n",
    "    [1, 8, 6, 2, 5, 4, 8, 3, 7],\n",
    "    [1, 1],\n",
    "    [1, 2, 1],\n",
    "    [2, 1],\n",
    "    [1,5,4,3]\n",
    "]\n",
    "\n",
    "print(\"🔍 Container With Most Water:\")\n",
    "for i, height in enumerate(test_cases, 1):\n",
    "    two_pointer_result = max_area_two_pointers(height)\n",
    "    print(f\"Test {i}: {height} → {two_pointer_result}\")"
   ]
  },
  {
   "cell_type": "code",
   "execution_count": null,
   "id": "4e5a0f2b",
   "metadata": {},
   "outputs": [],
   "source": [
    "def max_area_brute_force(height):\n",
    "    \"\"\"\n",
    "    Brute Force Approach\n",
    "    Time Complexity: O(n²)\n",
    "    Space Complexity: O(1)\n",
    "    \"\"\"\n",
    "    max_water = 0\n",
    "    n = len(height)\n",
    "    \n",
    "    for i in range(n):\n",
    "        for j in range(i + 1, n):\n",
    "            width = j - i\n",
    "            current_height = min(height[i], height[j])\n",
    "            current_area = width * current_height\n",
    "            max_water = max(max_water, current_area)\n",
    "    \n",
    "    return max_water\n",
    "\n",
    "# Test cases\n",
    "test_cases = [\n",
    "    [1, 8, 6, 2, 5, 4, 8, 3, 7],\n",
    "    [1, 1],\n",
    "    [1, 2, 1],\n",
    "    [2, 1]\n",
    "]\n",
    "\n",
    "print(\"🔍 Container With Most Water:\")\n",
    "for i, height in enumerate(test_cases, 1):\n",
    "    brute_force_result = max_area_brute_force(height)\n",
    "    print(f\"Test {i}: {height} → {brute_force_result}\")"
   ]
  },
  {
   "cell_type": "markdown",
   "id": "68ebd24f",
   "metadata": {},
   "source": [
    "## 💡 Key Insights\n",
    "\n",
    "### Two Pointers Strategy\n",
    "- Start with widest possible container (leftmost and rightmost)\n",
    "- Move the pointer with smaller height inward\n",
    "- Why? Moving taller line can't increase area (limited by shorter line)\n",
    "\n",
    "### Area Calculation\n",
    "- Area = width × min(height[left], height[right])\n",
    "- Width = right - left\n",
    "- Height limited by shorter line\n",
    "\n",
    "## 🎯 Practice Tips\n",
    "1. Greedy approach: always move pointer with smaller height\n",
    "2. Two pointers technique reduces O(n²) to O(n)\n",
    "3. Think about why moving taller line doesn't help\n",
    "4. This pattern appears in many optimization problems"
   ]
  }
 ],
 "metadata": {
  "kernelspec": {
   "display_name": "Python 3",
   "language": "python",
   "name": "python3"
  },
  "language_info": {
   "codemirror_mode": {
    "name": "ipython",
    "version": 3
   },
   "file_extension": ".py",
   "mimetype": "text/x-python",
   "name": "python",
   "nbconvert_exporter": "python",
   "pygments_lexer": "ipython3",
   "version": "3.13.5"
  }
 },
 "nbformat": 4,
 "nbformat_minor": 5
}
