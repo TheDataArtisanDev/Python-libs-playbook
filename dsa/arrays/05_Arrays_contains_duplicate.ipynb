{
 "cells": [
  {
   "cell_type": "markdown",
   "id": "b907a1f9",
   "metadata": {},
   "source": [
    "# Arrays - Contains Duplicate\n",
    "\n",
    "## Problem Statement\n",
    "Given an integer array `nums`, return `true` if any value appears at least twice in the array, and return `false` if every element is distinct.\n",
    "\n",
    "## Examples\n",
    "```\n",
    "Input: nums = [1,2,3,1]\n",
    "Output: true\n",
    "\n",
    "Input: nums = [1,2,3,4]\n",
    "Output: false\n",
    "\n",
    "Input: nums = [1,1,1,3,3,4,3,2,4,2]\n",
    "Output: true\n",
    "```"
   ]
  },
  {
   "cell_type": "code",
   "execution_count": 1,
   "id": "aa368a73",
   "metadata": {},
   "outputs": [],
   "source": [
    "def contains_duplicate_set(nums):\n",
    "    \"\"\"\n",
    "    Using Set\n",
    "    Time Complexity: O(n)\n",
    "    Space Complexity: O(n)\n",
    "    \"\"\"\n",
    "    return len(nums) != len(set(nums))"
   ]
  },
  {
   "cell_type": "code",
   "execution_count": 4,
   "id": "6e58cdfe",
   "metadata": {},
   "outputs": [
    {
     "name": "stdout",
     "output_type": "stream",
     "text": [
      "🔍 Contains Duplicate:\n",
      "Test 1: [1, 2, 3, 1] → True\n",
      "Test 2: [1, 2, 3, 4] → False\n",
      "Test 3: [1, 1, 1, 3, 3, 4, 3, 2, 4, 2] → True\n",
      "Test 4: [] → False\n"
     ]
    }
   ],
   "source": [
    "# Test cases\n",
    "test_cases = [\n",
    "    [1, 2, 3, 1],\n",
    "    [1, 2, 3, 4],\n",
    "    [1, 1, 1, 3, 3, 4, 3, 2, 4, 2],\n",
    "    []\n",
    "]\n",
    "\n",
    "print(\"🔍 Contains Duplicate:\")\n",
    "for i, nums in enumerate(test_cases, 1):\n",
    "    set_result = contains_duplicate_set(nums)\n",
    "    print(f\"Test {i}: {nums} → {set_result}\")"
   ]
  },
  {
   "cell_type": "code",
   "execution_count": 2,
   "id": "1799342f",
   "metadata": {},
   "outputs": [],
   "source": [
    "def contains_duplicate_hash_set(nums):\n",
    "    \"\"\"\n",
    "    Using Hash Set (Early Return)\n",
    "    Time Complexity: O(n)\n",
    "    Space Complexity: O(n)\n",
    "    \"\"\"\n",
    "    seen = set()\n",
    "    for num in nums:\n",
    "        if num in seen:\n",
    "            return True\n",
    "        seen.add(num)\n",
    "    return False"
   ]
  },
  {
   "cell_type": "code",
   "execution_count": 5,
   "id": "033373bb",
   "metadata": {},
   "outputs": [
    {
     "name": "stdout",
     "output_type": "stream",
     "text": [
      "🔍 Contains Duplicate:\n",
      "Test 1: [1, 2, 3, 1] → True\n",
      "Test 2: [1, 2, 3, 4] → False\n",
      "Test 3: [1, 1, 1, 3, 3, 4, 3, 2, 4, 2] → True\n",
      "Test 4: [] → False\n"
     ]
    }
   ],
   "source": [
    "# Test cases\n",
    "test_cases = [\n",
    "    [1, 2, 3, 1],\n",
    "    [1, 2, 3, 4],\n",
    "    [1, 1, 1, 3, 3, 4, 3, 2, 4, 2],\n",
    "    []\n",
    "]\n",
    "\n",
    "print(\"🔍 Contains Duplicate:\")\n",
    "for i, nums in enumerate(test_cases, 1):\n",
    "    set_result = contains_duplicate_hash_set(nums)\n",
    "    print(f\"Test {i}: {nums} → {set_result}\")"
   ]
  },
  {
   "cell_type": "code",
   "execution_count": 6,
   "id": "852981a8",
   "metadata": {},
   "outputs": [],
   "source": [
    "def contains_duplicate_sort(nums):\n",
    "    \"\"\"\n",
    "    Using Sorting\n",
    "    Time Complexity: O(n log n)\n",
    "    Space Complexity: O(1)\n",
    "    \"\"\"\n",
    "    nums.sort()\n",
    "    for i in range(1, len(nums)):\n",
    "        if nums[i] == nums[i-1]:\n",
    "            return True\n",
    "    return False"
   ]
  },
  {
   "cell_type": "code",
   "execution_count": 7,
   "id": "c17c2aca",
   "metadata": {},
   "outputs": [
    {
     "name": "stdout",
     "output_type": "stream",
     "text": [
      "🔍 Contains Duplicate:\n",
      "Test 1: [1, 1, 2, 3] → True\n",
      "Test 2: [1, 2, 3, 4] → False\n",
      "Test 3: [1, 1, 1, 2, 2, 3, 3, 3, 4, 4] → True\n",
      "Test 4: [] → False\n"
     ]
    }
   ],
   "source": [
    "# Test cases\n",
    "test_cases = [\n",
    "    [1, 2, 3, 1],\n",
    "    [1, 2, 3, 4],\n",
    "    [1, 1, 1, 3, 3, 4, 3, 2, 4, 2],\n",
    "    []\n",
    "]\n",
    "\n",
    "print(\"🔍 Contains Duplicate:\")\n",
    "for i, nums in enumerate(test_cases, 1):\n",
    "    set_result = contains_duplicate_sort(nums)\n",
    "    print(f\"Test {i}: {nums} → {set_result}\")"
   ]
  },
  {
   "cell_type": "markdown",
   "id": "2e1730c7",
   "metadata": {},
   "source": [
    "## 💡 Key Insights\n",
    "\n",
    "### Three Approaches Comparison\n",
    "1. **Set Conversion**: Simple but creates entire set\n",
    "2. **Hash Set with Early Return**: More efficient, stops when duplicate found\n",
    "3. **Sorting**: No extra space but slower time complexity\n",
    "\n",
    "### When to Use Each\n",
    "- **Set approach**: Clean, readable code\n",
    "- **Hash set**: Best for large arrays where duplicates likely\n",
    "- **Sorting**: When space is limited\n",
    "\n",
    "## 🎯 Practice Tips\n",
    "1. Hash set pattern common for duplicate detection\n",
    "2. Consider space-time tradeoffs\n",
    "3. Early return can improve performance"
   ]
  }
 ],
 "metadata": {
  "kernelspec": {
   "display_name": "Python 3",
   "language": "python",
   "name": "python3"
  },
  "language_info": {
   "codemirror_mode": {
    "name": "ipython",
    "version": 3
   },
   "file_extension": ".py",
   "mimetype": "text/x-python",
   "name": "python",
   "nbconvert_exporter": "python",
   "pygments_lexer": "ipython3",
   "version": "3.13.5"
  }
 },
 "nbformat": 4,
 "nbformat_minor": 5
}
