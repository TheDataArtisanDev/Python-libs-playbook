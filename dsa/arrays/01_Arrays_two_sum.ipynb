{
 "cells": [
  {
   "cell_type": "markdown",
   "id": "1d2f1220",
   "metadata": {},
   "source": [
    "# Two Sum - Basic Array Problem\n",
    "\n",
    "## Problem Statement\n",
    "Given an array of integers `nums` and an integer `target`, return indices of the two numbers such that they add up to target.\n",
    "\n",
    "You may assume that each input would have exactly one solution, and you may not use the same element twice.\n",
    "\n",
    "## Examples\n",
    "```\n",
    "Input: nums = [2,7,11,15], target = 9\n",
    "Output: [0,1]\n",
    "Explanation: Because nums[0] + nums[1] == 9, we return [0, 1].\n",
    "\n",
    "Input: nums = [3,2,4], target = 6\n",
    "Output: [1,2]\n",
    "\n",
    "Input: nums = [3,3], target = 6\n",
    "Output: [0,1]\n",
    "```\n",
    "\n",
    "## Constraints\n",
    "- 2 ≤ nums.length ≤ 10⁴\n",
    "- -10⁹ ≤ nums[i] ≤ 10⁹\n",
    "- -10⁹ ≤ target ≤ 10⁹\n",
    "- Only one valid answer exists"
   ]
  },
  {
   "cell_type": "code",
   "execution_count": 1,
   "id": "b51673b4",
   "metadata": {},
   "outputs": [],
   "source": [
    "def two_sum_brute_force(nums, target):\n",
    "    \"\"\"\n",
    "    Brute Force Solution\n",
    "    Time Complexity: O(n²)\n",
    "    Space Complexity: O(1)\n",
    "    \"\"\"\n",
    "    n = len(nums)\n",
    "    \n",
    "    for i in range(0,n):\n",
    "        for j in range(i + 1, n):\n",
    "            if nums[i] + nums[j] == target:\n",
    "                return [i, j]\n",
    "    \n",
    "    return []  # No solution found"
   ]
  },
  {
   "cell_type": "code",
   "execution_count": 2,
   "id": "9143b89a",
   "metadata": {},
   "outputs": [
    {
     "name": "stdout",
     "output_type": "stream",
     "text": [
      "🔍 Two Sum Solutions:\n",
      "========================================\n",
      "Test Case 1:\n",
      "  Input: nums = [2, 7, 11, 15], target = 9\n",
      "  Brute Force: [0, 1]\n",
      "Test Case 2:\n",
      "  Input: nums = [3, 2, 4], target = 6\n",
      "  Brute Force: [1, 2]\n",
      "Test Case 3:\n",
      "  Input: nums = [3, 3], target = 6\n",
      "  Brute Force: [0, 1]\n",
      "Test Case 4:\n",
      "  Input: nums = [1, 2, 3, 4, 5], target = 8\n",
      "  Brute Force: [2, 4]\n"
     ]
    }
   ],
   "source": [
    "# Test the solutions\n",
    "test_cases = [\n",
    "    ([2, 7, 11, 15], 9),\n",
    "    ([3, 2, 4], 6),\n",
    "    ([3, 3], 6),\n",
    "    ([1, 2, 3, 4, 5], 8)\n",
    "]\n",
    "\n",
    "print(\"🔍 Two Sum Solutions:\")\n",
    "print(\"=\" * 40)\n",
    "\n",
    "for i, (nums, target) in enumerate(test_cases, 1):\n",
    "    result_brute = two_sum_brute_force(nums, target)\n",
    "    \n",
    "    print(f\"Test Case {i}:\")\n",
    "    print(f\"  Input: nums = {nums}, target = {target}\")\n",
    "    print(f\"  Brute Force: {result_brute}\")\n"
   ]
  },
  {
   "cell_type": "code",
   "execution_count": 3,
   "id": "41123c3b",
   "metadata": {},
   "outputs": [],
   "source": [
    "def two_sum_hash_map(nums, target):\n",
    "    \"\"\"\n",
    "    Hash Map Solution\n",
    "    Time Complexity: O(n)\n",
    "    Space Complexity: O(n)\n",
    "    \"\"\"\n",
    "    num_to_index = {}\n",
    "    \n",
    "    for i, num in enumerate(nums):\n",
    "        complement = target - num\n",
    "        \n",
    "        if complement in num_to_index:\n",
    "            return [num_to_index[complement], i]\n",
    "        \n",
    "        num_to_index[num] = i\n",
    "    \n",
    "    return []  # No solution found"
   ]
  },
  {
   "cell_type": "code",
   "execution_count": 4,
   "id": "66f01267",
   "metadata": {},
   "outputs": [
    {
     "name": "stdout",
     "output_type": "stream",
     "text": [
      "🔍 Two Sum Solutions:\n",
      "========================================\n",
      "Test Case 1:\n",
      "  Input: nums = [2, 7, 11, 15], target = 9\n",
      "  Hash Map: [0, 1]\n",
      "\n",
      "Test Case 2:\n",
      "  Input: nums = [3, 2, 4], target = 6\n",
      "  Hash Map: [1, 2]\n",
      "\n",
      "Test Case 3:\n",
      "  Input: nums = [3, 3], target = 6\n",
      "  Hash Map: [0, 1]\n",
      "\n",
      "Test Case 4:\n",
      "  Input: nums = [1, 2, 3, 4, 5], target = 8\n",
      "  Hash Map: [2, 4]\n",
      "\n"
     ]
    }
   ],
   "source": [
    "# Test the solutions\n",
    "test_cases = [\n",
    "    ([2, 7, 11, 15], 9),\n",
    "    ([3, 2, 4], 6),\n",
    "    ([3, 3], 6),\n",
    "    ([1, 2, 3, 4, 5], 8)\n",
    "]\n",
    "\n",
    "print(\"🔍 Two Sum Solutions:\")\n",
    "print(\"=\" * 40)\n",
    "\n",
    "for i, (nums, target) in enumerate(test_cases, 1):\n",
    "    result_hash = two_sum_hash_map(nums, target)\n",
    "    \n",
    "    print(f\"Test Case {i}:\")\n",
    "    print(f\"  Input: nums = {nums}, target = {target}\")\n",
    "    print(f\"  Hash Map: {result_hash}\")\n",
    "    print()"
   ]
  },
  {
   "cell_type": "markdown",
   "id": "feb8f594",
   "metadata": {},
   "source": [
    "## 💡 Key Insights\n",
    "\n",
    "### Approach 1: Brute Force\n",
    "- **Idea**: Check every pair of numbers\n",
    "- **Time**: O(n²) - nested loops\n",
    "- **Space**: O(1) - no extra space\n",
    "- **When to use**: Small arrays, simplicity preferred\n",
    "\n",
    "### Approach 2: Hash Map (Optimal)\n",
    "- **Idea**: Store complement in hash map\n",
    "- **Time**: O(n) - single pass\n",
    "- **Space**: O(n) - hash map storage\n",
    "- **When to use**: Larger arrays, performance critical\n",
    "\n",
    "### Pattern Recognition\n",
    "This problem demonstrates the **complement pattern**:\n",
    "- For each element, look for its complement\n",
    "- Hash maps provide O(1) lookup for complements\n",
    "- Trade space for time complexity improvement\n",
    "\n",
    "## 🎯 Practice Tips\n",
    "1. Always consider brute force first for understanding\n",
    "2. Look for complement relationships in sum problems\n",
    "3. Hash maps are powerful for O(1) lookups\n",
    "4. Consider space-time tradeoffs"
   ]
  }
 ],
 "metadata": {
  "kernelspec": {
   "display_name": "Python 3",
   "language": "python",
   "name": "python3"
  },
  "language_info": {
   "codemirror_mode": {
    "name": "ipython",
    "version": 3
   },
   "file_extension": ".py",
   "mimetype": "text/x-python",
   "name": "python",
   "nbconvert_exporter": "python",
   "pygments_lexer": "ipython3",
   "version": "3.13.5"
  }
 },
 "nbformat": 4,
 "nbformat_minor": 5
}
