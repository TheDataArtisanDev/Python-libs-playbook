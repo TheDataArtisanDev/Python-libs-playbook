{
 "cells": [
  {
   "cell_type": "markdown",
   "id": "271af0b1",
   "metadata": {},
   "source": [
    "# Plus One\n",
    "\n",
    "## Problem Statement\n",
    "You are given a large integer represented as an integer array `digits`, where each `digits[i]` is the ith digit of the integer. The digits are ordered from most significant to least significant in left-to-right order. The large integer does not contain any leading zero.\n",
    "\n",
    "Increment the large integer by one and return the resulting array of digits.\n",
    "\n",
    "## Examples\n",
    "```\n",
    "Input: digits = [1,2,3]\n",
    "Output: [1,2,4]\n",
    "Explanation: The array represents the integer 123. Incrementing by one gives 123 + 1 = 124.\n",
    "\n",
    "Input: digits = [4,3,2,1]\n",
    "Output: [4,3,2,2]\n",
    "\n",
    "Input: digits = [9]\n",
    "Output: [1,0]\n",
    "```"
   ]
  },
  {
   "cell_type": "code",
   "execution_count": null,
   "id": "b1d53a23",
   "metadata": {},
   "outputs": [
    {
     "name": "stdout",
     "output_type": "stream",
     "text": [
      "🔍 Plus One:\n",
      "Test 1: [1, 2, 3] → [1, 2, 4]\n",
      "Test 2: [4, 3, 2, 1] → [4, 3, 2, 2]\n",
      "Test 3: [9] → [1, 0]\n",
      "Test 4: [9, 9, 9] → [1, 0, 0, 0]\n",
      "Test 5: [0] → [1]\n"
     ]
    }
   ],
   "source": [
    "def plus_one_using_string(nums):\n",
    "    \"\"\"\n",
    "    This function takes a list of integers representing digits of a number,\n",
    "    converts it to a string, increments the number by one, and returns the\n",
    "    result as a list of digits.\n",
    "    \"\"\"\n",
    "    # string_number = \"\".join(map(str, nums))  \n",
    "    string_number = \"\".join(map(lambda a: str(a),nums))\n",
    "\n",
    "    incremented_number = int(string_number) + 1\n",
    "\n",
    "    string_number = str(incremented_number)\n",
    "\n",
    "    # Convert the incremented number back to a list of digits\n",
    "    incremented_list = [int(digit) for digit in string_number]\n",
    "\n",
    "    return incremented_list\n",
    "\n",
    "test_cases = [\n",
    "    [1, 2, 3],\n",
    "    [4, 3, 2, 1],\n",
    "    [9],\n",
    "    [9, 9, 9],\n",
    "    [0]\n",
    "]\n",
    "\n",
    "print(\"🔍 Plus One:\")\n",
    "for i, digits in enumerate(test_cases, 1):\n",
    "    result = plus_one_using_string(digits.copy())\n",
    "    print(f\"Test {i}: {digits} → {result}\")\n"
   ]
  },
  {
   "cell_type": "code",
   "execution_count": 7,
   "id": "1dfa70c0",
   "metadata": {},
   "outputs": [
    {
     "name": "stdout",
     "output_type": "stream",
     "text": [
      "🔍 Plus One:\n",
      "Test 1: [1, 2, 3] → [1, 2, 4]\n",
      "Test 2: [4, 3, 2, 1] → [4, 3, 2, 2]\n",
      "Test 3: [9] → [1, 0]\n",
      "Test 4: [9, 9, 9] → [1, 0, 0, 0]\n",
      "Test 5: [0] → [1]\n"
     ]
    }
   ],
   "source": [
    "def plus_one(digits):\n",
    "    \"\"\"\n",
    "    Process from right to left with carry\n",
    "    Time Complexity: O(n)\n",
    "    Space Complexity: O(1) - not counting output\n",
    "    \"\"\"\n",
    "    carry = 1\n",
    "    \n",
    "    for i in range(len(digits) - 1, -1, -1):\n",
    "        total = digits[i] + carry\n",
    "        digits[i] = total % 10\n",
    "        carry = total // 10\n",
    "        \n",
    "        if carry == 0:\n",
    "            break\n",
    "    \n",
    "    if carry:\n",
    "        return [1] + digits\n",
    "    \n",
    "    return digits\n",
    "\n",
    "print(\"🔍 Plus One:\")\n",
    "for i, digits in enumerate(test_cases, 1):\n",
    "    result = plus_one(digits.copy())\n",
    "    print(f\"Test {i}: {digits} → {result}\")"
   ]
  },
  {
   "cell_type": "code",
   "execution_count": 9,
   "id": "c33726ac",
   "metadata": {},
   "outputs": [
    {
     "name": "stdout",
     "output_type": "stream",
     "text": [
      "🔍 Plus One:\n",
      "Test 1: [1, 2, 3] → [1, 2, 4]\n",
      "Test 2: [4, 3, 2, 1] → [4, 3, 2, 2]\n",
      "Test 3: [9] → [1, 0]\n",
      "Test 4: [9, 9, 9] → [1, 0, 0, 0]\n",
      "Test 5: [0] → [1]\n"
     ]
    }
   ],
   "source": [
    "def plus_one_simple(digits):\n",
    "    \"\"\"\n",
    "    Simple approach handling 9's\n",
    "    Time Complexity: O(n)\n",
    "    Space Complexity: O(1)\n",
    "    \"\"\"\n",
    "    for i in range(len(digits) - 1, -1, -1):\n",
    "        if digits[i] < 9:\n",
    "            digits[i] += 1\n",
    "            return digits\n",
    "        digits[i] = 0\n",
    "    \n",
    "    # All digits were 9\n",
    "    return [1] + digits\n",
    "\n",
    "# Test cases\n",
    "test_cases = [\n",
    "    [1, 2, 3],\n",
    "    [4, 3, 2, 1],\n",
    "    [9],\n",
    "    [9, 9, 9],\n",
    "    [0]\n",
    "]\n",
    "\n",
    "print(\"🔍 Plus One:\")\n",
    "for i, digits in enumerate(test_cases, 1):\n",
    "    result = plus_one_simple(digits.copy())\n",
    "    print(f\"Test {i}: {digits} → {result}\")"
   ]
  },
  {
   "cell_type": "markdown",
   "id": "c9a38136",
   "metadata": {},
   "source": [
    "## 💡 Key Insights\n",
    "\n",
    "### Carry Logic\n",
    "- Start from rightmost digit (least significant)\n",
    "- Add 1 to current digit plus any carry\n",
    "- If result ≥ 10, set digit to 0 and carry 1\n",
    "- Continue until no carry or reach beginning\n",
    "\n",
    "### Edge Cases\n",
    "- All 9's: Need to create new array with leading 1\n",
    "- Single digit 9: Becomes [1, 0]\n",
    "- No carry needed: Early termination possible\n",
    "\n",
    "## 🎯 Practice Tips\n",
    "1. Process digits right to left for carry propagation\n",
    "2. Handle the all-9's case separately\n",
    "3. Early termination when carry becomes 0\n",
    "4. Similar pattern to addition algorithms"
   ]
  }
 ],
 "metadata": {
  "kernelspec": {
   "display_name": "Python 3",
   "language": "python",
   "name": "python3"
  },
  "language_info": {
   "codemirror_mode": {
    "name": "ipython",
    "version": 3
   },
   "file_extension": ".py",
   "mimetype": "text/x-python",
   "name": "python",
   "nbconvert_exporter": "python",
   "pygments_lexer": "ipython3",
   "version": "3.13.5"
  }
 },
 "nbformat": 4,
 "nbformat_minor": 5
}
