{
 "cells": [
  {
   "cell_type": "markdown",
   "id": "2ee09f2c",
   "metadata": {},
   "source": [
    "# Linked List Basics\n",
    "\n",
    "This notebook covers basic operations on singly linked lists:\n",
    "\n",
    "- Creating a linked list from a Python list\n",
    "- Printing a linked list\n",
    "- Finding the length of a linked list\n",
    "- Searching for a value in a linked list"
   ]
  },
  {
   "cell_type": "code",
   "execution_count": null,
   "id": "401813e4",
   "metadata": {},
   "outputs": [],
   "source": [
    "# Definition for singly-linked list node\n",
    "class ListNode:\n",
    "    def __init__(self, val=0, next=None):\n",
    "        self.val = val\n",
    "        self.next = next\n",
    "\n",
    "def create_linked_list(arr):\n",
    "    \"\"\"Create a linked list from a Python list and return the head.\"\"\"\n",
    "    if not arr:\n",
    "        return None\n",
    "    head = ListNode(arr[0])\n",
    "    current = head\n",
    "    for val in arr[1:]:\n",
    "        current.next = ListNode(val)\n",
    "        current = current.next\n",
    "    return head\n",
    "\n",
    "def print_linked_list(head):\n",
    "    \"\"\"Print the linked list elements.\"\"\"\n",
    "    elements = []\n",
    "    current = head\n",
    "    while current:\n",
    "        elements.append(str(current.val))\n",
    "        current = current.next\n",
    "    print(' -> '.join(elements) if elements else '[]')\n",
    "\n",
    "def length_of_linked_list(head):\n",
    "    \"\"\"Return the length of the linked list.\"\"\"\n",
    "    count = 0\n",
    "    current = head\n",
    "    while current:\n",
    "        count += 1\n",
    "        current = current.next\n",
    "    return count\n",
    "\n",
    "def search_linked_list(head, target):\n",
    "    \"\"\"Return True if target is found in the linked list, else False.\"\"\"\n",
    "    current = head\n",
    "    while current:\n",
    "        if current.val == target:\n",
    "            return True\n",
    "        current = current.next\n",
    "    return False"
   ]
  },
  {
   "cell_type": "code",
   "execution_count": null,
   "id": "a18a169d",
   "metadata": {},
   "outputs": [],
   "source": [
    "# Test cases for basic linked list operations\n",
    "test_lists = [\n",
    "    [1, 2, 3, 4, 5],\n",
    "    [10],\n",
    "    [],\n",
    "    [7, 8, 9]\n",
    "]\n",
    "\n",
    "print(\"🔍 Linked List Basics:\")\n",
    "for i, arr in enumerate(test_lists, 1):\n",
    "    head = create_linked_list(arr)\n",
    "    print(f\"Test {i}: Input list = {arr}\")\n",
    "    print(\"  Linked list:\", end=\" \")\n",
    "    print_linked_list(head)\n",
    "    print(f\"  Length: {length_of_linked_list(head)}\")\n",
    "    print(f\"  Search 3: {search_linked_list(head, 3)}\")\n",
    "    print(f\"  Search 100: {search_linked_list(head, 100)}\")\n",
    "    print()"
   ]
  },
  {
   "cell_type": "markdown",
   "id": "15765a54",
   "metadata": {},
   "source": [
    "## 💡 Key Insights\n",
    "\n",
    "- Linked lists are built from nodes pointing to the next node.\n",
    "- Traversal is done by following `next` pointers.\n",
    "- Length and search require O(n) time.\n",
    "- These basics are the foundation for all linked list problems."
   ]
  }
 ],
 "metadata": {
  "language_info": {
   "name": "python"
  }
 },
 "nbformat": 4,
 "nbformat_minor": 5
}
